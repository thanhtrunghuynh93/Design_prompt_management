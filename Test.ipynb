{
 "cells": [
  {
   "cell_type": "code",
   "execution_count": 1,
   "id": "3bda2098-b9f0-4a25-acec-d802d43850e7",
   "metadata": {},
   "outputs": [
    {
     "data": {
      "text/plain": [
       "True"
      ]
     },
     "execution_count": 1,
     "metadata": {},
     "output_type": "execute_result"
    }
   ],
   "source": [
    "from dotenv import load_dotenv\n",
    "load_dotenv()"
   ]
  },
  {
   "cell_type": "code",
   "execution_count": 5,
   "id": "d587bd88-7c28-4039-b33c-2e08c3bbfdbb",
   "metadata": {},
   "outputs": [
    {
     "name": "stdout",
     "output_type": "stream",
     "text": [
      "Detailed description:\n",
      " The image features an inviting winter-themed bedding set, prominently showcasing various decorative pillows and a quilted coverlet, all designed with cheerful snowman motifs. \n",
      "\n",
      "1. **Background and Colors**: The primary background is a soft, sky blue, creating a serene winter ambiance. The fabric has a textured appearance, adding depth to the overall composition.\n",
      "\n",
      "2. **Pillows**: \n",
      "   - **Top Left Pillow**: This pillow features two snowmen side by side. The first snowman, on the left, is adorned with a red scarf and a festive red top hat, decorated with a snowflake pattern. This snowman has a joyful expression, complete with a carrot nose and buttons. The second snowman, wearing a blue scarf and hat, is facing slightly away, with a big smile and rosy cheeks, bringing a sense of playfulness.\n",
      "   - **Top Right Pillow**: A more detailed snowman is depicted, complete with a blue scarf and a red hat. Surrounding him are decorative elements like buttons and snowflakes, enhancing the festive feel. He gestures cheerfully, as if inviting warmth amidst the winter chill.\n",
      "  \n",
      "3. **Central and Lower Pillows**: \n",
      "   - **Center of the Image**: Another pillow occupies a central position, featuring three snowmen. The snowman on the left resembles the one from the top left, while the center snowman wears a striped scarf and a charming top hat. The snowman on the right, smaller in stature, has a whimsical expression and sports a hat adorned with a pom-pom.\n",
      "   - **Lower Portion**: This area displays a quilted coverlet with intricate patterns, featuring threadwork that appears to glisten. The stitches resemble delicate snowflakes, harmonizing beautifully with the snowy theme.\n",
      "\n",
      "4. **Textures and Details**: The texture of the fabric is plush and inviting, with quilting that adds a cozy effect. The snowmen's scarves and hats show varied patterns, enhancing their individuality. Decorative elements like embroidery and faux beads are used to create a sense of depth and detail, making the designs pop.\n",
      "\n",
      "5. **Overall Context**: The entire arrangement evokes a festive and warm atmosphere, perfect for the holiday season or a cozy winter retreat. The playful expressions of the snowmen create a cheerful, lighthearted feel, inviting viewers into a winter wonderland.\n",
      "\n",
      "This carefully arranged bedding set encapsulates the spirit of winter festivities, blending warmth, joy, and a touch of whimsy in its design.\n"
     ]
    }
   ],
   "source": [
    "from langchain_openai import ChatOpenAI\n",
    "from langchain_core.messages import HumanMessage\n",
    "from PIL import Image\n",
    "import os\n",
    "import base64\n",
    "\n",
    "# Initialize GPT (vision-capable)\n",
    "llm = ChatOpenAI(model=\"gpt-4o-mini\")\n",
    "\n",
    "def ensure_supported_format(image_path: str) -> str:\n",
    "    \"\"\"\n",
    "    Ensures the image is in JPG or PNG format.\n",
    "    Converts WEBP (or other formats) to JPG automatically.\n",
    "    Returns the path to the safe file.\n",
    "    \"\"\"\n",
    "    ext = os.path.splitext(image_path)[1].lower()\n",
    "    if ext in [\".jpg\", \".jpeg\", \".png\"]:\n",
    "        return image_path  # already safe format\n",
    "    \n",
    "    # Convert unsupported formats (e.g., .webp) to .jpg\n",
    "    img = Image.open(image_path).convert(\"RGB\")\n",
    "    safe_path = image_path.rsplit(\".\", 1)[0] + \".jpg\"\n",
    "    img.save(safe_path, \"JPEG\")\n",
    "    return safe_path\n",
    "\n",
    "def image_to_base64(image_path: str) -> str:\n",
    "    \"\"\"Reads a local image and returns a base64-encoded data URL.\"\"\"\n",
    "    with open(image_path, \"rb\") as f:\n",
    "        data = f.read()\n",
    "    b64 = base64.b64encode(data).decode(\"utf-8\")\n",
    "    ext = os.path.splitext(image_path)[1].lower().replace(\".\", \"\")\n",
    "    if ext == \"jpg\":\n",
    "        ext = \"jpeg\"  # correct MIME type\n",
    "    return f\"data:image/{ext};base64,{b64}\"\n",
    "\n",
    "def describe_image_with_langchain(llm, image_path: str, detail_level: str = \"very detailed\"):\n",
    "    # Ensure we have a supported format\n",
    "    safe_image_path = ensure_supported_format(image_path)\n",
    "    \n",
    "    # Encode local file as base64 data URL\n",
    "    data_url = image_to_base64(safe_image_path)\n",
    "    \n",
    "    # Build multimodal input\n",
    "    message = HumanMessage(\n",
    "        content=[\n",
    "            {\"type\": \"text\", \"text\": f\"Describe this image in {detail_level} for Midjourney without command, mentioning all visible objects, colors, context, and actions. , no special character like *, -. \"},\n",
    "            {\"type\": \"image_url\", \"image_url\": {\"url\": data_url}}\n",
    "        ]\n",
    "    )\n",
    "    \n",
    "    # Call GPT\n",
    "    response = llm.invoke([message])\n",
    "    return response.content\n",
    "\n",
    "description = describe_image_with_langchain(\"charmingdesign.webp\")\n",
    "print(\"Detailed description:\\n\", description)\n"
   ]
  },
  {
   "cell_type": "code",
   "execution_count": 34,
   "id": "8b8dc34b-bed1-46ca-a613-c8e6b7388976",
   "metadata": {},
   "outputs": [],
   "source": [
    "from langchain_openai import ChatOpenAI\n",
    "from langchain.prompts import PromptTemplate\n",
    "from langchain.chains import LLMChain\n",
    "\n",
    "\n",
    "def improvise_design(llm, base_design: str) -> str:\n",
    "    \"\"\"\n",
    "    Improvises a new design description from a base design using LangChain + LLM.\n",
    "    \"\"\"\n",
    "\n",
    "    # Prompt template\n",
    "    template = \"\"\"\n",
    "    You are a creative design assistant.\n",
    "    I will give you a base interior design description.\n",
    "    Please improvise a NEW variation of the design, make it imaginative, detailed, but stay close to the original.\n",
    "    Return the design only with no command, no special character like *, -. \n",
    "\n",
    "    Base design:\n",
    "    {base_design}\n",
    "\n",
    "    Now return the improvised design:\n",
    "    \"\"\"\n",
    "\n",
    "    prompt = PromptTemplate(\n",
    "        input_variables=[\"base_design\"],\n",
    "        template=template\n",
    "    )\n",
    "\n",
    "    # Build chain\n",
    "    chain = LLMChain(llm=llm, prompt=prompt)\n",
    "\n",
    "    # Run chain\n",
    "    improvised_design = chain.run(base_design=base_design)\n",
    "\n",
    "    return improvised_design.strip()\n"
   ]
  },
  {
   "cell_type": "code",
   "execution_count": 35,
   "id": "0bc0793d-f336-4811-9321-78814a7e4438",
   "metadata": {},
   "outputs": [],
   "source": [
    "new_design = improvise_design(llm, description)"
   ]
  },
  {
   "cell_type": "code",
   "execution_count": 36,
   "id": "80ff6e29-6569-4b11-bf99-c49011fcab2d",
   "metadata": {},
   "outputs": [
    {
     "data": {
      "text/plain": [
       "'The image features a charming winter-themed bedding set, adorned with an enchanting array of decorative pillows and a luxurious quilted coverlet, all celebrating whimsical snowman designs.\\n\\n1. Background and Colors: The backdrop is a gentle, twilight blue, infusing the space with a tranquil wintery glow. The fabric exhibits a subtle shimmer, reminiscent of moonlight on freshly fallen snow, elevating the entire design with an ethereal quality.\\n\\n2. Pillows:\\n   - Top Left Pillow: This pillow showcases two charming snowmen nestled together. The first snowman, on the left, is wrapped in a vibrant emerald green scarf and topped with a jaunty plaid hat, which is adorned with miniature pinecones. His joyous face beams with a friendly smile, featuring a button-studded chest. The second snowman, donning a cozy lavender scarf and a matching beanie, gazes away, displaying a playful smirk, adding a delightful element of surprise.\\n   - Top Right Pillow: A strikingly detailed snowman is featured, sporting a multicolored knitted scarf and an elegant silver hat. Surrounding him are sparkling stars and whimsical snowflakes, radiating a festive aura. His spirited pose suggests he is playfully inviting warmth and cheer into the room.\\n\\n3. Central and Lower Pillows:\\n   - Center of the Image: The central pillow presents a lively scene of four snowmen engaged in a friendly snowball fight. The snowman on the left mirrors elements of the top left character, while the central figure is adorned with a joyful red scarf and a grand top hat, adding an air of sophistication. The snowman on the far right is small and snuggly, sporting a bright yellow scarf and whimsical earmuffs, creating a sense of playful energy.\\n   - Lower Portion: The quilted coverlet features an intricate design that resembles a frosty lace pattern, with delicate threadwork that catches the light beautifully. The stitching appears to twinkle, mimicking the twinkling of stars in a clear winter sky, seamlessly blending into the snowy theme.\\n\\n4. Textures and Details: The fabric has a plush, velvety touch, inviting coziness and warmth. Each snowman’s scarf and hat boast unique designs, showcasing a delightful array of patterns from stripes to polka dots, enhancing their character. Embroidered accents and shimmering faux gems are artfully applied to create an elaborate degree of depth, making each element stand out distinctively.\\n\\n5. Overall Context: This thoughtfully curated bedding set radiates a festive and inviting atmosphere, perfectly suited for the holiday season or a snug winter retreat. The playful narratives expressed through the snowmen’s vibrant personalities evoke warmth and joy, transporting viewers into a magical winter wonderland. \\n\\nThis exquisite bedding ensemble captures the spirit of winter cheer, intertwining comfort, whimsy, and elegance into its enchanting design.'"
      ]
     },
     "execution_count": 36,
     "metadata": {},
     "output_type": "execute_result"
    }
   ],
   "source": [
    "new_design"
   ]
  },
  {
   "cell_type": "code",
   "execution_count": 37,
   "id": "cde9a823-94d3-418d-a5f2-d3511fce4b46",
   "metadata": {},
   "outputs": [
    {
     "name": "stdout",
     "output_type": "stream",
     "text": [
      "The image features a charming winter-themed bedding set, adorned with an enchanting array of decorative pillows and a luxurious quilted coverlet, all celebrating whimsical snowman designs.\n",
      "\n",
      "1. Background and Colors: The backdrop is a gentle, twilight blue, infusing the space with a tranquil wintery glow. The fabric exhibits a subtle shimmer, reminiscent of moonlight on freshly fallen snow, elevating the entire design with an ethereal quality.\n",
      "\n",
      "2. Pillows:\n",
      "   - Top Left Pillow: This pillow showcases two charming snowmen nestled together. The first snowman, on the left, is wrapped in a vibrant emerald green scarf and topped with a jaunty plaid hat, which is adorned with miniature pinecones. His joyous face beams with a friendly smile, featuring a button-studded chest. The second snowman, donning a cozy lavender scarf and a matching beanie, gazes away, displaying a playful smirk, adding a delightful element of surprise.\n",
      "   - Top Right Pillow: A strikingly detailed snowman is featured, sporting a multicolored knitted scarf and an elegant silver hat. Surrounding him are sparkling stars and whimsical snowflakes, radiating a festive aura. His spirited pose suggests he is playfully inviting warmth and cheer into the room.\n",
      "\n",
      "3. Central and Lower Pillows:\n",
      "   - Center of the Image: The central pillow presents a lively scene of four snowmen engaged in a friendly snowball fight. The snowman on the left mirrors elements of the top left character, while the central figure is adorned with a joyful red scarf and a grand top hat, adding an air of sophistication. The snowman on the far right is small and snuggly, sporting a bright yellow scarf and whimsical earmuffs, creating a sense of playful energy.\n",
      "   - Lower Portion: The quilted coverlet features an intricate design that resembles a frosty lace pattern, with delicate threadwork that catches the light beautifully. The stitching appears to twinkle, mimicking the twinkling of stars in a clear winter sky, seamlessly blending into the snowy theme.\n",
      "\n",
      "4. Textures and Details: The fabric has a plush, velvety touch, inviting coziness and warmth. Each snowman’s scarf and hat boast unique designs, showcasing a delightful array of patterns from stripes to polka dots, enhancing their character. Embroidered accents and shimmering faux gems are artfully applied to create an elaborate degree of depth, making each element stand out distinctively.\n",
      "\n",
      "5. Overall Context: This thoughtfully curated bedding set radiates a festive and inviting atmosphere, perfectly suited for the holiday season or a snug winter retreat. The playful narratives expressed through the snowmen’s vibrant personalities evoke warmth and joy, transporting viewers into a magical winter wonderland. \n",
      "\n",
      "This exquisite bedding ensemble captures the spirit of winter cheer, intertwining comfort, whimsy, and elegance into its enchanting design.\n"
     ]
    }
   ],
   "source": [
    "print(new_design)"
   ]
  }
 ],
 "metadata": {
  "kernelspec": {
   "display_name": "Python 3 (ipykernel)",
   "language": "python",
   "name": "python3"
  },
  "language_info": {
   "codemirror_mode": {
    "name": "ipython",
    "version": 3
   },
   "file_extension": ".py",
   "mimetype": "text/x-python",
   "name": "python",
   "nbconvert_exporter": "python",
   "pygments_lexer": "ipython3",
   "version": "3.11.11"
  }
 },
 "nbformat": 4,
 "nbformat_minor": 5
}
