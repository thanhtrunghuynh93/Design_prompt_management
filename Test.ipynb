{
 "cells": [
  {
   "cell_type": "code",
   "execution_count": 1,
   "id": "3bda2098-b9f0-4a25-acec-d802d43850e7",
   "metadata": {},
   "outputs": [
    {
     "data": {
      "text/plain": [
       "True"
      ]
     },
     "execution_count": 1,
     "metadata": {},
     "output_type": "execute_result"
    }
   ],
   "source": [
    "from dotenv import load_dotenv\n",
    "load_dotenv()"
   ]
  },
  {
   "cell_type": "code",
   "execution_count": 4,
   "id": "d587bd88-7c28-4039-b33c-2e08c3bbfdbb",
   "metadata": {},
   "outputs": [
    {
     "name": "stdout",
     "output_type": "stream",
     "text": [
      "Detailed description:\n",
      " The image showcases a collection of beautifully designed bedding and decorative pillows featuring an enchanting winter theme centered around cheerful snowmen. \n",
      "\n",
      "**Overall Context:**\n",
      "The bedding is set against a soft blue backdrop, evoking a peaceful winter atmosphere. The various elements in the image create a cozy, festive vibe suitable for the colder months.\n",
      "\n",
      "**Visible Objects:**\n",
      "1. **Pillows**:\n",
      "   - Several decorative pillows, each with unique embroidered designs of snowmen. \n",
      "   - One pillow features two snowmen. The larger one on the left wears a red scarf and a blue hat adorned with a flower, while the smaller one has a white scarf and a red hat.\n",
      "   - Another pillow shows three snowmen, each dressed differently: the leftmost snowman has a red and white striped scarf and a red hat, while the middle one wears a blue scarf and hat. The third snowman has a blue hat and a white scarf, with rosy cheeks and a smile.\n",
      "\n",
      "2. **Quilted Bedspread**:\n",
      "   - The quilted bedspread matches the pillows with intricate designs embroidered across its surface, including additional snowmen, snowflakes, and festive ornaments.\n",
      "   - Details such as shiny blue and red balls and snowflakes adorn the fabric, providing a rich texture and depth to the piece.\n",
      "\n",
      "3. **Color Palette**:\n",
      "   - Dominantly soft blue, complemented by bright reds, whites, and various shades of blue in the snowmen's apparel. The use of contrasting colors enhances the playful, joyful appearance of the decorations.\n",
      "\n",
      "4. **Textures**:\n",
      "   - The fabric appears plush and inviting, with quilted patterns that add a tactile dimension to the visual experience.\n",
      "\n",
      "**Actions:**\n",
      "While there are no human actions depicted in the image, the overall arrangement and design of the pillows suggest a welcoming and festive setting, inviting viewers to imagine a comfortable and cheerful winter night spent snuggled in warmth.\n",
      "\n",
      "In summary, the image conveys a delightful winter charm through its combination of colors, textures, and whimsical snowman designs, making it a perfect decorative choice for the season.\n"
     ]
    }
   ],
   "source": [
    "from langchain_openai import ChatOpenAI\n",
    "from langchain_core.messages import HumanMessage\n",
    "from PIL import Image\n",
    "import os\n",
    "import base64\n",
    "\n",
    "# Initialize GPT (vision-capable)\n",
    "llm = ChatOpenAI(model=\"gpt-4o-mini\")\n",
    "\n",
    "def ensure_supported_format(image_path: str) -> str:\n",
    "    \"\"\"\n",
    "    Ensures the image is in JPG or PNG format.\n",
    "    Converts WEBP (or other formats) to JPG automatically.\n",
    "    Returns the path to the safe file.\n",
    "    \"\"\"\n",
    "    ext = os.path.splitext(image_path)[1].lower()\n",
    "    if ext in [\".jpg\", \".jpeg\", \".png\"]:\n",
    "        return image_path  # already safe format\n",
    "    \n",
    "    # Convert unsupported formats (e.g., .webp) to .jpg\n",
    "    img = Image.open(image_path).convert(\"RGB\")\n",
    "    safe_path = image_path.rsplit(\".\", 1)[0] + \".jpg\"\n",
    "    img.save(safe_path, \"JPEG\")\n",
    "    return safe_path\n",
    "\n",
    "def image_to_base64(image_path: str) -> str:\n",
    "    \"\"\"Reads a local image and returns a base64-encoded data URL.\"\"\"\n",
    "    with open(image_path, \"rb\") as f:\n",
    "        data = f.read()\n",
    "    b64 = base64.b64encode(data).decode(\"utf-8\")\n",
    "    ext = os.path.splitext(image_path)[1].lower().replace(\".\", \"\")\n",
    "    if ext == \"jpg\":\n",
    "        ext = \"jpeg\"  # correct MIME type\n",
    "    return f\"data:image/{ext};base64,{b64}\"\n",
    "\n",
    "def describe_image_with_langchain(image_path: str, detail_level: str = \"very detailed\"):\n",
    "    # Ensure we have a supported format\n",
    "    safe_image_path = ensure_supported_format(image_path)\n",
    "    \n",
    "    # Encode local file as base64 data URL\n",
    "    data_url = image_to_base64(safe_image_path)\n",
    "    \n",
    "    # Build multimodal input\n",
    "    message = HumanMessage(\n",
    "        content=[\n",
    "            {\"type\": \"text\", \"text\": f\"Describe this image in {detail_level}, mentioning all visible objects, colors, context, and actions.\"},\n",
    "            {\"type\": \"image_url\", \"image_url\": {\"url\": data_url}}\n",
    "        ]\n",
    "    )\n",
    "    \n",
    "    # Call GPT\n",
    "    response = llm.invoke([message])\n",
    "    return response.content\n",
    "\n",
    "description = describe_image_with_langchain(\"charmingdesign.webp\")\n",
    "print(\"Detailed description:\\n\", description)\n"
   ]
  },
  {
   "cell_type": "code",
   "execution_count": null,
   "id": "0bc0793d-f336-4811-9321-78814a7e4438",
   "metadata": {},
   "outputs": [],
   "source": []
  }
 ],
 "metadata": {
  "kernelspec": {
   "display_name": "llm",
   "language": "python",
   "name": "llm"
  },
  "language_info": {
   "codemirror_mode": {
    "name": "ipython",
    "version": 3
   },
   "file_extension": ".py",
   "mimetype": "text/x-python",
   "name": "python",
   "nbconvert_exporter": "python",
   "pygments_lexer": "ipython3",
   "version": "3.10.4"
  }
 },
 "nbformat": 4,
 "nbformat_minor": 5
}
