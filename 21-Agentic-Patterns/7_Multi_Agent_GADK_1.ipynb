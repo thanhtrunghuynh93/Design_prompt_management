{
 "cells": [
  {
   "cell_type": "markdown",
   "metadata": {},
   "source": [
    "# 7 - Multi-Agent\n",
    "## Parent-Child Relationship\n",
    "- This code snippet illustrates how to establish a parent-child relationship between agents using the Google Agent Developer Kit. \n",
    "- It begins by defining individual agent instances: greeter as an LlmAgent and task_doer as a generic BaseAgent. \n",
    "- A coordinator agent, also an LlmAgent, is then created to act as the parent. \n",
    "- The crucial step is passing the greeter and task_doer instances into the sub_agents list during the coordinator's initialization. \n",
    "- Behind the scenes, ADK automatically assigns the coordinator as the parent_agent for both greeter and task_doer. \n",
    "- This simple configuration demonstrates the core mechanism for building hierarchical agent structures within the ADK framework.\n"
   ]
  },
  {
   "cell_type": "code",
   "execution_count": 1,
   "metadata": {},
   "outputs": [],
   "source": [
    "# Conceptual Example: Defining Hierarchy\n",
    "from google.adk.agents import LlmAgent, BaseAgent\n",
    "\n",
    "# Define individual agents\n",
    "greeter = LlmAgent(name=\"Greeter\", model=\"gemini-2.0-flash\")\n",
    "task_doer = BaseAgent(name=\"TaskExecutor\") # Custom non-LLM agent\n",
    "\n",
    "# Create parent agent and assign children via sub_agents\n",
    "coordinator = LlmAgent(\n",
    "    name=\"Coordinator\",\n",
    "    model=\"gemini-2.0-flash\",\n",
    "    description=\"I coordinate greetings and tasks.\",\n",
    "    sub_agents=[ # Assign sub_agents here\n",
    "        greeter,\n",
    "        task_doer\n",
    "    ]\n",
    ")\n",
    "\n",
    "# Framework automatically sets:\n",
    "# assert greeter.parent_agent == coordinator\n",
    "# assert task_doer.parent_agent == coordinator\n"
   ]
  },
  {
   "cell_type": "code",
   "execution_count": null,
   "metadata": {},
   "outputs": [],
   "source": []
  }
 ],
 "metadata": {
  "kernelspec": {
   "display_name": ".venv",
   "language": "python",
   "name": "python3"
  },
  "language_info": {
   "codemirror_mode": {
    "name": "ipython",
    "version": 3
   },
   "file_extension": ".py",
   "mimetype": "text/x-python",
   "name": "python",
   "nbconvert_exporter": "python",
   "pygments_lexer": "ipython3",
   "version": "3.11.8"
  }
 },
 "nbformat": 4,
 "nbformat_minor": 2
}
