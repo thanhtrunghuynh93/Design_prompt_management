{
 "cells": [
  {
   "cell_type": "markdown",
   "metadata": {},
   "source": [
    "# Chapter 3 - Parallelization \n",
    "Now lets illustrating the concept of Parallelization within the Google ADK framework. We'll examine how the ADK primitives, such as ParallelAgent and SequentialAgent, can be applied to build an agent flow that leverages concurrent execution for improved efficiency."
   ]
  },
  {
   "cell_type": "code",
   "execution_count": 1,
   "metadata": {},
   "outputs": [],
   "source": [
    "# Conceptual Code: Parallel Information Gathering\n",
    "from google.adk.agents import SequentialAgent, ParallelAgent, LlmAgent\n",
    "\n",
    "fetch_api1 = LlmAgent(name=\"API1Fetcher\", instruction=\"Fetch data from API 1.\", output_key=\"api1_data\")\n",
    "fetch_api2 = LlmAgent(name=\"API2Fetcher\", instruction=\"Fetch data from API 2.\", output_key=\"api2_data\")\n",
    "\n",
    "gather_concurrently = ParallelAgent(\n",
    "   name=\"ConcurrentFetch\",\n",
    "   sub_agents=[fetch_api1, fetch_api2]\n",
    ")\n",
    "\n",
    "synthesizer = LlmAgent(\n",
    "   name=\"Synthesizer\",\n",
    "   instruction=\"Combine results from state keys 'api1_data' and 'api2_data'.\"\n",
    ")\n",
    "\n",
    "overall_workflow = SequentialAgent(\n",
    "   name=\"FetchAndSynthesize\",\n",
    "   sub_agents=[gather_concurrently, synthesizer] # Run parallel fetch, then synthesize\n",
    ")\n",
    "# fetch_api1 and fetch_api2 run concurrently, saving to state.\n",
    "# synthesizer runs afterwards, reading state['api1_data'] and state['api2_data'].\n"
   ]
  },
  {
   "cell_type": "code",
   "execution_count": null,
   "metadata": {},
   "outputs": [],
   "source": []
  }
 ],
 "metadata": {
  "kernelspec": {
   "display_name": ".venv",
   "language": "python",
   "name": "python3"
  },
  "language_info": {
   "codemirror_mode": {
    "name": "ipython",
    "version": 3
   },
   "file_extension": ".py",
   "mimetype": "text/x-python",
   "name": "python",
   "nbconvert_exporter": "python",
   "pygments_lexer": "ipython3",
   "version": "3.11.8"
  }
 },
 "nbformat": 4,
 "nbformat_minor": 2
}
