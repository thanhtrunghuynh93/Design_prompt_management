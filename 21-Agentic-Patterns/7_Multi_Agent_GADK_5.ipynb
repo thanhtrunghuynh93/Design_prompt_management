{
 "cells": [
  {
   "cell_type": "markdown",
   "metadata": {},
   "source": [
    "# 7 - Multi-Agent\n",
    "## Agent calling another Agent - Agent as a Tool\n",
    "- This code snippet demonstrates the \"Agent as a Tool\" pattern in Google ADK, allowing one agent to invoke another agent's capabilities like a function call. \n",
    "- It defines a target agent, ImageGeneratorAgent, which simulates generating an image. This ImageGeneratorAgent instance is then wrapped within an AgentTool. \n",
    "- A parent agent, Artist, is configured as an LlmAgent and given access to the image_tool in its tools list. When the Artist LLM decides to use the image generation capability, it generates a function call targeting the ImageGen tool. The ADK framework intercepts this call, executes the wrapped ImageGeneratorAgent via the AgentTool, and returns the agent's final output (the simulated image part) back to the Artist agent as the tool result. \n",
    "- This pattern provides a structured way for LLM agents to leverage the specialized functionalities of other agents."
   ]
  },
  {
   "cell_type": "code",
   "execution_count": 1,
   "metadata": {},
   "outputs": [],
   "source": [
    "# Conceptual Setup: Agent as a Tool\n",
    "from google.adk.agents import LlmAgent, BaseAgent\n",
    "from google.adk.tools import agent_tool\n",
    "from pydantic import BaseModel\n",
    "\n",
    "# Define a target agent (could be LlmAgent or custom BaseAgent)\n",
    "class ImageGeneratorAgent(BaseAgent): # Example custom agent\n",
    "    name: str = \"ImageGen\"\n",
    "    description: str = \"Generates an image based on a prompt.\"\n",
    "    # ... internal logic ...\n",
    "    async def _run_async_impl(self, ctx): # Simplified run logic\n",
    "        prompt = ctx.session.state.get(\"image_prompt\", \"default prompt\")\n",
    "        # ... generate image bytes ...\n",
    "        image_bytes = b\"...\"\n",
    "        yield Event(author=self.name, content=types.Content(parts=[types.Part.from_bytes(image_bytes, \"image/png\")]))\n",
    "\n",
    "image_agent = ImageGeneratorAgent()\n",
    "image_tool = agent_tool.AgentTool(agent=image_agent) # Wrap the agent\n",
    "\n",
    "# Parent agent uses the AgentTool\n",
    "artist_agent = LlmAgent(\n",
    "    name=\"Artist\",\n",
    "    model=\"gemini-2.0-flash\",\n",
    "    instruction=\"Create a prompt and use the ImageGen tool to generate the image.\",\n",
    "    tools=[image_tool] # Include the AgentTool\n",
    ")\n",
    "# Artist LLM generates a prompt, then calls:\n",
    "# FunctionCall(name='ImageGen', args={'image_prompt': 'a cat wearing a hat'})\n",
    "# Framework calls image_tool.run_async(...), which runs ImageGeneratorAgent.\n",
    "# The resulting image Part is returned to the Artist agent as the tool result."
   ]
  },
  {
   "cell_type": "code",
   "execution_count": null,
   "metadata": {},
   "outputs": [],
   "source": []
  }
 ],
 "metadata": {
  "kernelspec": {
   "display_name": ".venv",
   "language": "python",
   "name": "python3"
  },
  "language_info": {
   "codemirror_mode": {
    "name": "ipython",
    "version": 3
   },
   "file_extension": ".py",
   "mimetype": "text/x-python",
   "name": "python",
   "nbconvert_exporter": "python",
   "pygments_lexer": "ipython3",
   "version": "3.11.8"
  }
 },
 "nbformat": 4,
 "nbformat_minor": 2
}
