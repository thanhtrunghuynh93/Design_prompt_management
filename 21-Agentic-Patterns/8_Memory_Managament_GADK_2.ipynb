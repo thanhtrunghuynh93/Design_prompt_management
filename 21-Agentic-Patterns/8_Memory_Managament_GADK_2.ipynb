{
 "cells": [
  {
   "cell_type": "markdown",
   "metadata": {},
   "source": [
    "# 8 - Memory Management\n",
    "##  GADK - The Standard Way: Using EventActions.state_delta for More Complicated Updates\n",
    "- For times when you need to do more complex things – like updating several keys at once, saving things that aren't just text, targeting specific scopes like user: or app:, or making updates that aren't tied to the agent's final text reply – you'll manually build a dictionary of your state changes (the state_delta) and include it within the EventActions of the Event you're appending.\n",
    "- Let's look at a code example demonstrating explicit state update via EventActions \n"
   ]
  },
  {
   "cell_type": "code",
   "execution_count": 1,
   "metadata": {},
   "outputs": [],
   "source": [
    "# Import necessary classes from the Google Agent Developer Kit (ADK)\n",
    "# InMemorySessionService: A service for managing sessions in memory (for testing).\n",
    "# Session: Represents a single conversation thread.\n",
    "# Event: Represents an interaction or action within a session.\n",
    "# EventActions: Holds actions associated with an Event, including state changes.\n",
    "# Part, Content: Classes for representing message content.\n",
    "import time  # Import the time module for timestamps\n",
    "from google.adk.sessions import InMemorySessionService, Session\n",
    "from google.adk.events import Event, EventActions\n",
    "from google.genai.types import Part, Content"
   ]
  },
  {
   "cell_type": "code",
   "execution_count": 2,
   "metadata": {},
   "outputs": [
    {
     "name": "stdout",
     "output_type": "stream",
     "text": [
      "Initial state: {'user:login_count': 0, 'task_status': 'idle'}\n"
     ]
    }
   ],
   "source": [
    "# --- Setup ---\n",
    "# Initialize the InMemorySessionService.\n",
    "session_service = InMemorySessionService()\n",
    "\n",
    "# Define identifiers for the application, user, and session.\n",
    "app_name, user_id, session_id = \"state_app_manual\", \"user2\", \"session2\"\n",
    "\n",
    "# Create a new session using the session service.\n",
    "# Initialize the session with some starting state data.\n",
    "session = session_service.create_session(\n",
    "    app_name=app_name,\n",
    "    user_id=user_id,\n",
    "    session_id=session_id,\n",
    "    state={\"user:login_count\": 0, \"task_status\": \"idle\"},  # Initial state dictionary\n",
    ")\n",
    "\n",
    "# Print the initial state of the session.\n",
    "print(f\"Initial state: {session.state}\")"
   ]
  },
  {
   "cell_type": "code",
   "execution_count": 3,
   "metadata": {},
   "outputs": [],
   "source": [
    "# --- Define State Changes ---\n",
    "# Get the current time to use for a timestamp in the state.\n",
    "current_time = time.time()\n",
    "\n",
    "# Define a dictionary containing the state changes you want to apply.\n",
    "# This is the 'state_delta'.\n",
    "state_changes = {\n",
    "    \"task_status\": \"active\",  # Update an existing session state key\n",
    "    # Read the current value from session.state and increment it.\n",
    "    # Use .get() with a default (0) in case the key doesn't exist initially.\n",
    "    \"user:login_count\": session.state.get(\"user:login_count\", 0)\n",
    "    + 1,  # Update a user-scoped state key\n",
    "    \"user:last_login_ts\": current_time,  # Add a new user-scoped state key with a timestamp\n",
    "    \"temp:validation_needed\": True,  # Add a temporary state key (often discarded by persistent services)\n",
    "}"
   ]
  },
  {
   "cell_type": "code",
   "execution_count": 4,
   "metadata": {},
   "outputs": [],
   "source": [
    "# --- Create Event with Actions ---\n",
    "# Create an EventActions object and pass the state_changes dictionary to its state_delta parameter.\n",
    "# This links the desired state updates to this specific event.\n",
    "actions_with_update = EventActions(state_delta=state_changes)\n",
    "\n",
    "# Create a new Event object.\n",
    "# This event represents an action that occurred (e.g., a system event, a tool completing, etc.).\n",
    "# It includes the actions object containing the state delta.\n",
    "system_event = Event(\n",
    "    # invocation_id=\"inv_login_update\", # Example: An optional identifier for the invocation\n",
    "    author=\"system\",  # Specify the author of the event (e.g., 'system', 'agent', 'tool_name')\n",
    "    actions=actions_with_update,  # Attach the actions object with the state delta\n",
    "    timestamp=current_time,  # Include a timestamp for the event\n",
    "    # content might be None or represent the action taken.\n",
    "    # content=Content(parts=[Part(text=\"System updated state based on login event.\")]) # Example of including content\n",
    ")"
   ]
  },
  {
   "cell_type": "code",
   "execution_count": 5,
   "metadata": {},
   "outputs": [
    {
     "name": "stdout",
     "output_type": "stream",
     "text": [
      "`append_event` called with explicit state delta.\n"
     ]
    }
   ],
   "source": [
    "# --- Append the Event (This updates the state) ---\n",
    "# Append the created event to the session using the session service.\n",
    "# When append_event is called, the SessionService processes the event's actions,\n",
    "# including applying the state_delta to the session's state.\n",
    "# Note: In a real ADK application, append_event is often asynchronous and would need 'await'.\n",
    "# For this simplified synchronous example, we call it directly.\n",
    "session_service.append_event(session, system_event)\n",
    "\n",
    "\n",
    "# Print a confirmation message.\n",
    "print(\"`append_event` called with explicit state delta.\")"
   ]
  },
  {
   "cell_type": "code",
   "execution_count": 6,
   "metadata": {},
   "outputs": [
    {
     "name": "stdout",
     "output_type": "stream",
     "text": [
      "State after event: {'user:login_count': 1, 'task_status': 'active', 'user:last_login_ts': 1747736091.932589}\n"
     ]
    }
   ],
   "source": [
    "# --- Check Updated State ---\n",
    "# Retrieve the session again from the service to get its latest state.\n",
    "updated_session = session_service.get_session(\n",
    "    app_name=app_name, user_id=user_id, session_id=session_id\n",
    ")\n",
    "\n",
    "# Print the state after the event was appended.\n",
    "# You should see the keys and values from state_changes reflected in the session's state.\n",
    "print(f\"State after event: {updated_session.state}\")\n",
    "\n",
    "# Expected output might look something like this (timestamp will vary):\n",
    "# {'user:login_count': 1, 'task_status': 'active', 'user:last_login_ts': 1678886400.0, 'temp:validation_needed': True}\n",
    "# Note: In a persistent SessionService, 'temp:' keys are typically not saved.\n",
    "# In this InMemory mock, it might appear, but the concept is they are transient.\n",
    "\n",
    "# Clean up the session (optional, but good practice in longer-running apps)\n",
    "# session_service.delete_session(app_name, user_id, session_id)"
   ]
  }
 ],
 "metadata": {
  "kernelspec": {
   "display_name": ".venv",
   "language": "python",
   "name": "python3"
  },
  "language_info": {
   "codemirror_mode": {
    "name": "ipython",
    "version": 3
   },
   "file_extension": ".py",
   "mimetype": "text/x-python",
   "name": "python",
   "nbconvert_exporter": "python",
   "pygments_lexer": "ipython3",
   "version": "3.11.8"
  }
 },
 "nbformat": 4,
 "nbformat_minor": 2
}
