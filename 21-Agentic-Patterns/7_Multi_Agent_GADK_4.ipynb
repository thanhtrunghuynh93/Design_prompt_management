{
 "cells": [
  {
   "cell_type": "markdown",
   "metadata": {},
   "source": [
    "# 7 - Multi-Agent\n",
    "## Concurrent Tasks - Parallel Agent\n",
    "- This code snippet demonstrates the ParallelAgent pattern within the Google ADK, which is used to execute multiple agent tasks concurrently. \n",
    "- It defines two LlmAgent instances, fetch_weather and fetch_news, representing independent data fetching tasks. These agents are then added as sub_agents to a ParallelAgent named InfoGatherer. \n",
    "- When the gatherer agent is executed, both fetch_weather and fetch_news run simultaneously, allowing for efficient information retrieval. While the ParallelAgent uses distinct InvocationContext.branch paths for each child, providing some isolation, all parallel children share access to the same session.state, enabling them to read initial state and write their results (using unique keys like \"weather\" and \"news\") for later use by another agent. \n",
    "- This pattern is ideal for scenarios where tasks are independent and can benefit from parallel execution."
   ]
  },
  {
   "cell_type": "code",
   "execution_count": 1,
   "metadata": {},
   "outputs": [],
   "source": [
    "# Conceptual Example: Parallel Execution\n",
    "from google.adk.agents import ParallelAgent, LlmAgent\n",
    "\n",
    "fetch_weather = LlmAgent(name=\"WeatherFetcher\", output_key=\"weather\")\n",
    "fetch_news = LlmAgent(name=\"NewsFetcher\", output_key=\"news\")\n",
    "\n",
    "gatherer = ParallelAgent(name=\"InfoGatherer\", sub_agents=[fetch_weather, fetch_news])\n",
    "# When gatherer runs, WeatherFetcher and NewsFetcher run concurrently.\n",
    "# A subsequent agent could read state['weather'] and state['news']."
   ]
  },
  {
   "cell_type": "code",
   "execution_count": null,
   "metadata": {},
   "outputs": [],
   "source": []
  }
 ],
 "metadata": {
  "kernelspec": {
   "display_name": ".venv",
   "language": "python",
   "name": "python3"
  },
  "language_info": {
   "codemirror_mode": {
    "name": "ipython",
    "version": 3
   },
   "file_extension": ".py",
   "mimetype": "text/x-python",
   "name": "python",
   "nbconvert_exporter": "python",
   "pygments_lexer": "ipython3",
   "version": "3.11.8"
  }
 },
 "nbformat": 4,
 "nbformat_minor": 2
}
