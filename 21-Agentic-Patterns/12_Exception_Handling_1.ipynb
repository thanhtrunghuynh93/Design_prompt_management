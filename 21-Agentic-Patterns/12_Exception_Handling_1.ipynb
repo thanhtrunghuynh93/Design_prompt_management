{
 "cells": [
  {
   "cell_type": "markdown",
   "id": "5c51b735",
   "metadata": {},
   "source": [
    "# 12 - Exception Handling and Recovery \n",
    "- To illustrate Exception Handling and Recovery, we can demonstrate how an agent might handle a tool call that fails, either due to an invalid input or an external service error.\n"
   ]
  },
  {
   "cell_type": "code",
   "execution_count": null,
   "id": "f601665d",
   "metadata": {},
   "outputs": [],
   "source": [
    "from google.adk.agents import Agent\n",
    "\n",
    "\n",
    "# Conceptual Tools\n",
    "def get_precise_location_info(address: str) -> dict:\n",
    "    \"\"\"Primary tool: gets precise geolocation. Might fail.\"\"\"\n",
    "    if \"problematic\" in address.lower():\n",
    "        return {\n",
    "            \"status\": \"error\",\n",
    "            \"error_message\": \"Precise location service unavailable for this address.\",\n",
    "        }\n",
    "    return {\n",
    "        \"status\": \"success\",\n",
    "        \"latitude\": 40.7128,\n",
    "        \"longitude\": -74.0060,\n",
    "        \"precision\": \"high\",\n",
    "    }\n",
    "\n",
    "\n",
    "def get_general_area_info(city: str) -> dict:\n",
    "    \"\"\"Fallback tool: gets general information if precise fails.\"\"\"\n",
    "    return {\n",
    "        \"status\": \"success\",\n",
    "        \"area_info\": f\"General information for {city}: It's a known city.\",\n",
    "    }\n",
    "\n",
    "\n",
    "location_agent_with_fallback = Agent(\n",
    "    name=\"location_agent_fallback\",\n",
    "    model=\"gemini-2.0-flash-exp\",\n",
    "    description=\"Tries to get precise location, falls back to general info on failure.\",\n",
    "    instruction=\"\"\"\n",
    "You need to provide location information.\n",
    "1. First, try to use the get_precise_location_info tool with the full address.\n",
    "2. If get_precise_location_info returns \"status\": \"error\", then try to extract the city from the address.\n",
    "3. Use the get_general_area_info tool with just the city as a fallback.\n",
    "4. If both fail, or if you cannot extract a city, apologize that location info could not be retrieved.\n",
    "Present information clearly from whichever tool succeeds.\n",
    "    \"\"\",\n",
    "    tools=[get_precise_location_info, get_general_area_info],\n",
    ")\n",
    "\n",
    "# --- Conceptual Run ---\n",
    "# User: \"Tell me about problematic address, Anytown\"\n",
    "# Agent calls: get_precise_location_info(address=\"problematic address, Anytown\")\n",
    "# Tool returns: {\"status\": \"error\", \"error_message\": \"Precise location service unavailable for this address.\"}\n",
    "# Agent (following instructions) extracts \"Anytown\", then calls: get_general_area_info(city=\"Anytown\")\n",
    "# Tool returns: {\"status\": \"success\", \"area_info\": \"General information for Anytown: It's a known city.\"}\n",
    "# Agent responds: \"I couldn't get precise data, but here's general information for Anytown: It's a known city.\""
   ]
  },
  {
   "cell_type": "code",
   "execution_count": null,
   "id": "d3dc7da9",
   "metadata": {},
   "outputs": [],
   "source": []
  }
 ],
 "metadata": {
  "kernelspec": {
   "display_name": ".venv",
   "language": "python",
   "name": "python3"
  },
  "language_info": {
   "codemirror_mode": {
    "name": "ipython",
    "version": 3
   },
   "file_extension": ".py",
   "mimetype": "text/x-python",
   "name": "python",
   "nbconvert_exporter": "python",
   "pygments_lexer": "ipython3",
   "version": "3.11.8"
  }
 },
 "nbformat": 4,
 "nbformat_minor": 5
}
