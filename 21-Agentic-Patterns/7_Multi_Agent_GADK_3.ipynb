{
 "cells": [
  {
   "cell_type": "markdown",
   "metadata": {},
   "source": [
    "# 7 - Multi-Agent\n",
    "## Linear Workflows - Sequential Agent\n",
    "- This code snippet illustrates the SequentialAgent pattern within the Google ADK, designed for creating linear workflows. \n",
    "- It defines two LlmAgent instances, step1 and step2, representing sequential processing steps. \n",
    "- The SequentialAgent named MyPipeline is then created, taking step1 and step2 as its sub_agents in the desired execution order. When MyPipeline runs, it executes step1 first. \n",
    "- Crucially, the SequentialAgent passes the same InvocationContext to each sub-agent, allowing step1 to save its output (using output_key=\"data\") into the shared state. \n",
    "- Subsequently, step2 can access this data from the state (state['data']) to perform its processing, demonstrating how the SequentialAgent enables seamless data flow between consecutive steps in a pipeline."
   ]
  },
  {
   "cell_type": "code",
   "execution_count": 1,
   "metadata": {},
   "outputs": [],
   "source": [
    "# Conceptual Example: Sequential Pipeline\n",
    "from google.adk.agents import SequentialAgent, LlmAgent\n",
    "\n",
    "step1 = LlmAgent(name=\"Step1_Fetch\", output_key=\"data\") # Saves output to state['data']\n",
    "step2 = LlmAgent(name=\"Step2_Process\", instruction=\"Process data from state key 'data'.\")\n",
    "\n",
    "pipeline = SequentialAgent(name=\"MyPipeline\", sub_agents=[step1, step2])\n",
    "# When pipeline runs, Step2 can access the state['data'] set by Step1."
   ]
  },
  {
   "cell_type": "code",
   "execution_count": null,
   "metadata": {},
   "outputs": [],
   "source": []
  }
 ],
 "metadata": {
  "kernelspec": {
   "display_name": ".venv",
   "language": "python",
   "name": "python3"
  },
  "language_info": {
   "codemirror_mode": {
    "name": "ipython",
    "version": 3
   },
   "file_extension": ".py",
   "mimetype": "text/x-python",
   "name": "python",
   "nbconvert_exporter": "python",
   "pygments_lexer": "ipython3",
   "version": "3.11.8"
  }
 },
 "nbformat": 4,
 "nbformat_minor": 2
}
