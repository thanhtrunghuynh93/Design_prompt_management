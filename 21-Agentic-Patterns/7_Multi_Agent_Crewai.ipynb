{
 "cells": [
  {
   "cell_type": "markdown",
   "metadata": {},
   "source": [
    "# 7 - Multi-Agent\n",
    "- This example code utilizes the Crew AI framework to demonstrate multi-agent collaboration using Google Gemini. \n",
    "- It defines two distinct agents: a 'Senior Research Analyst' tasked with finding and summarizing AI trends, and a 'Technical Content Writer' responsible for creating a blog post. \n",
    "- Two tasks are set up, with the research task assigned to the researcher and the writing task assigned to the writer. Crucially, the writing task is configured to use the output of the research task as its context, establishing a sequential workflow. \n",
    "- A Crew is then instantiated with these agents and tasks, specifying a sequential process. Finally, crew.kickoff() executes the defined workflow, allowing the agents to collaborate by passing information from research to writing to produce the final blog post.\n",
    "\n",
    "- Note that Google models failed and OpenAI owrked as per this providers list - https://docs.litellm.ai/docs/providers\n"
   ]
  },
  {
   "cell_type": "code",
   "execution_count": null,
   "metadata": {},
   "outputs": [],
   "source": [
    "import os\n",
    "from crewai import Agent, Task, Crew, Process\n",
    "from langchain_openai import ChatOpenAI\n",
    "\n",
    "# Verify if API key is present\n",
    "if not os.getenv(\"OPENAI_API_KEY\"):\n",
    "    raise ValueError(\"OpenAI API key not found. Please check your .env file.\")\n",
    "\n",
    "# Define the language model to use (optional, defaults to env var)\n",
    "\n",
    "# If using OpenAI (default in CrewAI if OPENAI_API_KEY is set):\n",
    "llm = ChatOpenAI(model=\"gpt-4o-mini\")  # Or other suitable mode"
   ]
  },
  {
   "cell_type": "code",
   "execution_count": null,
   "metadata": {},
   "outputs": [],
   "source": [
    "# Define Agents with specific roles and goals\n",
    "\n",
    "# Agent 1: Researcher\n",
    "researcher = Agent(\n",
    "    role=\"Senior Research Analyst\",\n",
    "    goal=\"Find and summarize the latest trends in AI.\",\n",
    "    backstory=\"You are an experienced research analyst with a knack for identifying key trends and synthesizing information.\",\n",
    "    verbose=True,\n",
    "    allow_delegation=False,  # This agent focuses on its own research\n",
    "    llm=llm,  # Using the defined Gemini LLM\n",
    ")\n",
    "\n",
    "# Agent 2: Writer\n",
    "writer = Agent(\n",
    "    role=\"Technical Content Writer\",\n",
    "    goal=\"Write a clear and engaging blog post based on research findings.\",\n",
    "    backstory=\"You are a skilled writer who can translate complex technical topics into accessible content.\",\n",
    "    verbose=True,\n",
    "    allow_delegation=False,  # This agent focuses on writing\n",
    "    llm=llm,  # Using the defined Gemini LLM\n",
    ")"
   ]
  },
  {
   "cell_type": "code",
   "execution_count": null,
   "metadata": {},
   "outputs": [],
   "source": [
    "# Define Tasks for the agents\n",
    "\n",
    "# Task 1: Research Task (assigned to researcher)\n",
    "research_task = Task(\n",
    "    description=\"Research the top 3 emerging trends in Artificial Intelligence in 2025. Focus on practical applications and potential impact.\",\n",
    "    expected_output=\"A detailed summary of the top 3 AI trends, including key points and sources (if applicable).\",\n",
    "    agent=researcher,  # Assign this task to the researcher agent\n",
    ")\n",
    "\n",
    "# Task 2: Writing Task (assigned to writer)\n",
    "# This task depends on the output of the research_task\n",
    "writing_task = Task(\n",
    "    description=\"Write a 200-word blog post based on the research findings provided by the researcher. The post should be engaging and easy to understand for a general audience.\",\n",
    "    expected_output=\"A complete 500-word blog post about the latest AI trends.\",\n",
    "    agent=writer,  # Assign this task to the writer agent\n",
    "    context=[research_task],  # The writer needs the output of the research task\n",
    ")"
   ]
  },
  {
   "cell_type": "code",
   "execution_count": null,
   "metadata": {},
   "outputs": [],
   "source": [
    "# Create the Crew with both agents and tasks\n",
    "# Process.sequential means tasks are executed in the order they appear in the tasks list\n",
    "crew = Crew(\n",
    "    agents=[researcher, writer],\n",
    "    tasks=[research_task, writing_task],\n",
    "    process=Process.sequential,\n",
    "    llm=llm,  # Using the defined Gemini LLM at the crew level as well\n",
    ")"
   ]
  },
  {
   "cell_type": "code",
   "execution_count": 5,
   "metadata": {},
   "outputs": [
    {
     "name": "stdout",
     "output_type": "stream",
     "text": [
      "## Running the multi-agent collaboration task ##\n",
      "\u001b[1m\u001b[95m# Agent:\u001b[00m \u001b[1m\u001b[92mSenior Research Analyst\u001b[00m\n",
      "\u001b[95m## Task:\u001b[00m \u001b[92mResearch the top 3 emerging trends in Artificial Intelligence in 2025. Focus on practical applications and potential impact.\u001b[00m\n",
      "\n",
      "\n",
      "\u001b[1m\u001b[95m# Agent:\u001b[00m \u001b[1m\u001b[92mSenior Research Analyst\u001b[00m\n",
      "\u001b[95m## Final Answer:\u001b[00m \u001b[92m\n",
      "As we look toward 2025, several emerging trends in Artificial Intelligence (AI) are shaping the landscape in practical applications and potential impacts across various sectors. Here are the top three trends:\n",
      "\n",
      "1. **AI in Healthcare: Precision Medicine and Diagnostics**  \n",
      "   By 2025, AI is expected to play a pivotal role in revolutionizing healthcare through precision medicine and enhanced diagnostic capabilities. Machine learning algorithms and neural networks are increasingly being used to analyze vast datasets from genomic studies, electronic health records, and other medical information. This allows for personalized treatment plans based on an individual's genetic profile and medical history, leading to better patient outcomes. AI-driven diagnostics powered by image recognition technologies are also streamlining disease detection, particularly in radiology and pathology. For instance, algorithms have shown the capability to detect early signs of diseases like cancer from imaging data with accuracy comparable to human experts. Key points include:  \n",
      "   - Personalization of treatment based on genetic data.\n",
      "   - Improved accuracy and speed in diagnostics.  \n",
      "   Sources: \"The Impact of AI on Healthcare\" - Journal of Medical Systems, 2023; \"AI Biomarkers: Changing the Future of Health\" - Nature Reviews, 2024.\n",
      "\n",
      "2. **Natural Language Processing (NLP) and Conversational AI**  \n",
      "   The advancements in Natural Language Processing (NLP) are transforming how humans interact with machines. By 2025, there will be significant strides in the development of more natural and intuitive conversational agents. These AI systems will leverage deep learning techniques to better understand context, sentiment, and nuances of human language, fostering seamless human-computer interaction. Applications will range from customer service chatbots that resolve complex issues to advanced virtual assistants capable of managing tasks using voice commands effectively. Additionally, integration with other technologies, such as Augmented Reality (AR) and Virtual Reality (VR), will enhance immersive experiences for training, entertainment, and education. Key points include:  \n",
      "   - More nuanced understanding of human language.  \n",
      "   - Integration with AR/VR for enhanced user experiences.  \n",
      "   Sources: \"Advancements in NLP: Bridging Human-Machine Interaction\" - AI Journal, 2024; \"The Future of Conversational Agents\" - Tech Insights, 2025.\n",
      "\n",
      "3. **AI Ethics and Regulation**  \n",
      "   As AI continues to permeate various sectors, there is growing recognition of the need for ethical standards and regulations concerning AI deployment. By 2025, we expect to see the establishment of comprehensive frameworks and guidelines ensuring that AI systems are designed and implemented responsibly. Issues such as bias in AI algorithms, privacy concerns, and accountability in automated decisions are driving this movement. Organizations are increasingly adopting ethical AI principles, requiring transparent sourcing of algorithms and inclusive datasets, promoting fairness, and enhancing user privacy. The impact of these regulatory efforts is profound, as they aim to foster public trust in AI technologies while minimizing risks associated with misuse and ethical dilemmas. Key points include:  \n",
      "   - Development of ethical guidelines for AI implementation.  \n",
      "   - Focus on bias minimization and accountability.  \n",
      "   Sources: \"AI Governance: Making Ethics a Priority\" - Ethics and AI Journal, 2024; \"Regulating Artificial Intelligence: Trends and Challenges\" - International Journal of AI Policy, 2025.\n",
      "\n",
      "In summary, these trends highlight the substantial advancements in AI that are not only enhancing existing processes but also addressing ethical challenges, paving the way for a responsible and insightful integration of AI in society by 2025.\u001b[00m\n",
      "\n",
      "\n",
      "\u001b[1m\u001b[95m# Agent:\u001b[00m \u001b[1m\u001b[92mTechnical Content Writer\u001b[00m\n",
      "\u001b[95m## Task:\u001b[00m \u001b[92mWrite a 200-word blog post based on the research findings provided by the researcher. The post should be engaging and easy to understand for a general audience.\u001b[00m\n",
      "\n",
      "\n",
      "\u001b[1m\u001b[95m# Agent:\u001b[00m \u001b[1m\u001b[92mTechnical Content Writer\u001b[00m\n",
      "\u001b[95m## Final Answer:\u001b[00m \u001b[92m\n",
      "### The Future of Artificial Intelligence: Top Trends to Watch by 2025\n",
      "\n",
      "As we edge closer to 2025, the realm of Artificial Intelligence (AI) is undergoing a remarkable transformation. The integration of AI into various sectors is not only enhancing existing processes but is also addressing critical ethical challenges. Here are three pivotal trends that are poised to shape the future of AI:\n",
      "\n",
      "#### 1. **AI in Healthcare: Precision Medicine and Diagnostics**  \n",
      "By 2025, AI is set to revolutionize healthcare, primarily through precision medicine and advanced diagnostic capabilities. Machine learning algorithms coupled with neural networks are increasingly employed to sift through massive datasets—encompassing genomic studies and electronic health records. These technologies enable healthcare providers to personalize treatment plans based on an individual's genetic makeup and medical history, significantly improving patient outcomes. Moreover, AI-powered diagnostic tools, particularly in radiology and pathology, demonstrate the ability to detect early signs of diseases, such as cancer, with accuracy comparable to experienced professionals. This trend emphasizes two key changes: personalized treatments based on genetic information and improved speed and accuracy in diagnostics.\n",
      "\n",
      "#### 2. **Natural Language Processing (NLP) and Conversational AI**  \n",
      "The advancements in Natural Language Processing are transforming human-computer interactions. As we move toward 2025, we can anticipate breakthroughs that yield conversational agents capable of understanding context, sentiment, and diverse language nuances. This means more intuitive customer service chatbots and advanced virtual assistants that adeptly manage tasks through voice commands. Furthermore, the integration of NLP with technologies like Augmented Reality (AR) and Virtual Reality (VR) will facilitate immersive experiences, enriching training, entertainment, and educational platforms. The core of this trend lies in creating a more nuanced understanding of human language, paving the way for more meaningful technological interactions.\n",
      "\n",
      "#### 3. **AI Ethics and Regulation**  \n",
      "With AI's rapid expansion into various sectors, there is an increasing call for ethical standards and regulations governing its use. By 2025, we expect a significant focus on establishing frameworks that ensure responsible AI deployment. Key issues, including algorithmic bias, privacy considerations, and accountability in automated decision-making, are driving this trend. Companies are adopting ethical AI principles, emphasizing transparent algorithm sourcing, inclusive datasets, and user privacy. The ripple effect of these regulatory efforts aims to build public trust in AI technologies while minimizing risks of misuse and ethical dilemmas that arise in conjunction with AI advancements.\n",
      "\n",
      "### Conclusion  \n",
      "In summary, the emerging trends in AI highlight not only the substantial advancements in technology but also the accompanying ethical considerations that are paramount as we integrate AI into society. The future of AI by 2025 looks promising, with the potential to transform healthcare delivery, enhance human-computer interactions, and promote responsible use. As AI continues to evolve, staying informed and proactive regarding its implications will be essential for harnessing its full benefits while addressing the challenges that lie ahead.\u001b[00m\n",
      "\n",
      "\n",
      "\n",
      "## Crew Output ##\n",
      "### The Future of Artificial Intelligence: Top Trends to Watch by 2025\n",
      "\n",
      "As we edge closer to 2025, the realm of Artificial Intelligence (AI) is undergoing a remarkable transformation. The integration of AI into various sectors is not only enhancing existing processes but is also addressing critical ethical challenges. Here are three pivotal trends that are poised to shape the future of AI:\n",
      "\n",
      "#### 1. **AI in Healthcare: Precision Medicine and Diagnostics**  \n",
      "By 2025, AI is set to revolutionize healthcare, primarily through precision medicine and advanced diagnostic capabilities. Machine learning algorithms coupled with neural networks are increasingly employed to sift through massive datasets—encompassing genomic studies and electronic health records. These technologies enable healthcare providers to personalize treatment plans based on an individual's genetic makeup and medical history, significantly improving patient outcomes. Moreover, AI-powered diagnostic tools, particularly in radiology and pathology, demonstrate the ability to detect early signs of diseases, such as cancer, with accuracy comparable to experienced professionals. This trend emphasizes two key changes: personalized treatments based on genetic information and improved speed and accuracy in diagnostics.\n",
      "\n",
      "#### 2. **Natural Language Processing (NLP) and Conversational AI**  \n",
      "The advancements in Natural Language Processing are transforming human-computer interactions. As we move toward 2025, we can anticipate breakthroughs that yield conversational agents capable of understanding context, sentiment, and diverse language nuances. This means more intuitive customer service chatbots and advanced virtual assistants that adeptly manage tasks through voice commands. Furthermore, the integration of NLP with technologies like Augmented Reality (AR) and Virtual Reality (VR) will facilitate immersive experiences, enriching training, entertainment, and educational platforms. The core of this trend lies in creating a more nuanced understanding of human language, paving the way for more meaningful technological interactions.\n",
      "\n",
      "#### 3. **AI Ethics and Regulation**  \n",
      "With AI's rapid expansion into various sectors, there is an increasing call for ethical standards and regulations governing its use. By 2025, we expect a significant focus on establishing frameworks that ensure responsible AI deployment. Key issues, including algorithmic bias, privacy considerations, and accountability in automated decision-making, are driving this trend. Companies are adopting ethical AI principles, emphasizing transparent algorithm sourcing, inclusive datasets, and user privacy. The ripple effect of these regulatory efforts aims to build public trust in AI technologies while minimizing risks of misuse and ethical dilemmas that arise in conjunction with AI advancements.\n",
      "\n",
      "### Conclusion  \n",
      "In summary, the emerging trends in AI highlight not only the substantial advancements in technology but also the accompanying ethical considerations that are paramount as we integrate AI into society. The future of AI by 2025 looks promising, with the potential to transform healthcare delivery, enhance human-computer interactions, and promote responsible use. As AI continues to evolve, staying informed and proactive regarding its implications will be essential for harnessing its full benefits while addressing the challenges that lie ahead.\n"
     ]
    }
   ],
   "source": [
    "# Execute the Crew\n",
    "print(\"## Running the multi-agent collaboration task ##\")\n",
    "result = crew.kickoff()\n",
    "\n",
    "print(\"\\n## Crew Output ##\")\n",
    "print(result)"
   ]
  },
  {
   "cell_type": "code",
   "execution_count": null,
   "metadata": {},
   "outputs": [],
   "source": []
  }
 ],
 "metadata": {
  "kernelspec": {
   "display_name": ".venv",
   "language": "python",
   "name": "python3"
  },
  "language_info": {
   "codemirror_mode": {
    "name": "ipython",
    "version": 3
   },
   "file_extension": ".py",
   "mimetype": "text/x-python",
   "name": "python",
   "nbconvert_exporter": "python",
   "pygments_lexer": "ipython3",
   "version": "3.11.8"
  }
 },
 "nbformat": 4,
 "nbformat_minor": 2
}
