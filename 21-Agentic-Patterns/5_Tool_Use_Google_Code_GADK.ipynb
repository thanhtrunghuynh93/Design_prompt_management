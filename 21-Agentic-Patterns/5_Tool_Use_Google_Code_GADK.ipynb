{
 "cells": [
  {
   "cell_type": "markdown",
   "metadata": {},
   "source": [
    "# 5 - Tool Use\n",
    "- Now let's see how to execute code calling an external tool. \n",
    "- The built_in_code_execution tool grants the agent the capability to run code, enabling the model to handle tasks such as performing calculations, manipulating data, or executing small scripts.\n",
    "\n",
    "This Google ADK code creates an LlmAgent specifically designed as a calculator, equipped with the built_in_code_execution tool. The agent is instructed to use this tool to write and execute Python code whenever it receives a mathematical expression. An InMemorySessionService and Runner are set up to manage the agent's state and execution flow asynchronously. The call_agent_async function sends user queries to the runner and processes the resulting events, including displaying the generated code and its execution results. Finally, the main function demonstrates the agent's capability by running example calculation queries.\n"
   ]
  },
  {
   "cell_type": "code",
   "execution_count": 6,
   "metadata": {},
   "outputs": [],
   "source": [
    "import asyncio\n",
    "from google.adk.agents import LlmAgent\n",
    "from google.adk.runners import Runner\n",
    "from google.adk.sessions import InMemorySessionService\n",
    "from google.adk.tools import built_in_code_execution\n",
    "from google.genai import types\n",
    "\n",
    "AGENT_NAME=\"calculator_agent\"\n",
    "APP_NAME=\"calculator\"\n",
    "USER_ID=\"user1234\"\n",
    "SESSION_ID=\"session_code_exec_async\"\n",
    "GEMINI_MODEL = \"gemini-2.0-flash\""
   ]
  },
  {
   "cell_type": "code",
   "execution_count": 7,
   "metadata": {},
   "outputs": [],
   "source": [
    "# Agent Definition\n",
    "code_agent = LlmAgent(\n",
    "    name=AGENT_NAME,\n",
    "    model=GEMINI_MODEL,\n",
    "    tools=[built_in_code_execution],\n",
    "    instruction=\"\"\"You are a calculator agent.\n",
    "    When given a mathematical expression, write and execute Python code to calculate the result.\n",
    "    Return only the final numerical result as plain text, without markdown or code blocks.\n",
    "    \"\"\",\n",
    "    description=\"Executes Python code to perform calculations.\",\n",
    ")"
   ]
  },
  {
   "cell_type": "code",
   "execution_count": 8,
   "metadata": {},
   "outputs": [],
   "source": [
    "# Session and Runner\n",
    "session_service = InMemorySessionService()\n",
    "session = session_service.create_session(app_name=APP_NAME, user_id=USER_ID, session_id=SESSION_ID)\n",
    "runner = Runner(agent=code_agent, app_name=APP_NAME, session_service=session_service)"
   ]
  },
  {
   "cell_type": "code",
   "execution_count": 9,
   "metadata": {},
   "outputs": [],
   "source": [
    "# Agent Interaction (Async)\n",
    "async def call_agent_async(query):\n",
    "    content = types.Content(role='user', parts=[types.Part(text=query)])\n",
    "    print(f\"\\n--- Running Query: {query} ---\")\n",
    "    final_response_text = \"No final text response captured.\"\n",
    "    try:\n",
    "        # Use run_async\n",
    "        async for event in runner.run_async(user_id=USER_ID, session_id=SESSION_ID, new_message=content):\n",
    "            print(f\"Event ID: {event.id}, Author: {event.author}\")\n",
    "\n",
    "            # --- Check for specific parts FIRST ---\n",
    "            has_specific_part = False\n",
    "            if event.content and event.content.parts:\n",
    "                for part in event.content.parts: # Iterate through all parts\n",
    "                    if part.executable_code:\n",
    "                        # Access the actual code string via .code\n",
    "                        print(f\"  Debug: Agent generated code:\\n```python\\n{part.executable_code.code}\\n```\")\n",
    "                        has_specific_part = True\n",
    "                    elif part.code_execution_result:\n",
    "                        # Access outcome and output correctly\n",
    "                        print(f\"  Debug: Code Execution Result: {part.code_execution_result.outcome} - Output:\\n{part.code_execution_result.output}\")\n",
    "                        has_specific_part = True\n",
    "                    # Also print any text parts found in any event for debugging\n",
    "                    elif part.text and not part.text.isspace():\n",
    "                        print(f\"  Text: '{part.text.strip()}'\")\n",
    "                        # Do not set has_specific_part=True here, as we want the final response logic below\n",
    "\n",
    "            # --- Check for final response AFTER specific parts ---\n",
    "            # Only consider it final if it doesn't have the specific code parts we just handled\n",
    "            if not has_specific_part and event.is_final_response():\n",
    "                if event.content and event.content.parts and event.content.parts[0].text:\n",
    "                    final_response_text = event.content.parts[0].text.strip()\n",
    "                    print(f\"==> Final Agent Response: {final_response_text}\")\n",
    "                else:\n",
    "                    print(\"==> Final Agent Response: [No text content in final event]\")\n",
    "\n",
    "\n",
    "    except Exception as e:\n",
    "        print(f\"ERROR during agent run: {e}\")\n",
    "    print(\"-\" * 30)"
   ]
  },
  {
   "cell_type": "code",
   "execution_count": 10,
   "metadata": {},
   "outputs": [
    {
     "name": "stdout",
     "output_type": "stream",
     "text": [
      "\n",
      "--- Running Query: Calculate the value of (5 + 7) * 3 ---\n"
     ]
    },
    {
     "name": "stderr",
     "output_type": "stream",
     "text": [
      "Warning: there are non-text parts in the response: ['executable_code', 'code_execution_result'],returning concatenated text result from text parts,check out the non text parts for full response from model.\n"
     ]
    },
    {
     "name": "stdout",
     "output_type": "stream",
     "text": [
      "Event ID: 231k5z3B, Author: calculator_agent\n",
      "  Debug: Agent generated code:\n",
      "```python\n",
      "print((5 + 7) * 3)\n",
      "\n",
      "```\n",
      "  Debug: Code Execution Result: Outcome.OUTCOME_OK - Output:\n",
      "36\n",
      "\n",
      "  Text: '36'\n",
      "------------------------------\n",
      "\n",
      "--- Running Query: What is 10 factorial? ---\n"
     ]
    },
    {
     "name": "stderr",
     "output_type": "stream",
     "text": [
      "Warning: there are non-text parts in the response: ['executable_code', 'code_execution_result'],returning concatenated text result from text parts,check out the non text parts for full response from model.\n"
     ]
    },
    {
     "name": "stdout",
     "output_type": "stream",
     "text": [
      "Event ID: TrUyWS1O, Author: calculator_agent\n",
      "  Debug: Agent generated code:\n",
      "```python\n",
      "import math\n",
      "print(math.factorial(10))\n",
      "\n",
      "```\n",
      "  Debug: Code Execution Result: Outcome.OUTCOME_OK - Output:\n",
      "3628800\n",
      "\n",
      "  Text: '3628800'\n",
      "------------------------------\n"
     ]
    }
   ],
   "source": [
    "# Run the example with a test topic\n",
    "# pip install nest_asyncio\n",
    "import nest_asyncio\n",
    "nest_asyncio.apply()\n",
    "\n",
    "# Main async function to run the examples\n",
    "async def main():\n",
    "    await call_agent_async(\"Calculate the value of (5 + 7) * 3\")\n",
    "    await call_agent_async(\"What is 10 factorial?\")\n",
    "    \n",
    "try:\n",
    "    # Run the async function\n",
    "    await main()\n",
    "except RuntimeError as e:\n",
    "    # Handle specific error when running asyncio.run in an already running loop (like Jupyter/Colab)\n",
    "    if \"cannot be called from a running event loop\" in str(e):\n",
    "        print(\"\\nRunning in an existing event loop (like Colab/Jupyter).\")\n",
    "        print(\"Please run `await main()` in a notebook cell instead.\")\n",
    "        # If in an interactive environment like a notebook, you might need to run:\n",
    "        # await main()\n",
    "    else:\n",
    "        raise e # Re-raise other runtime errors"
   ]
  }
 ],
 "metadata": {
  "kernelspec": {
   "display_name": ".venv",
   "language": "python",
   "name": "python3"
  },
  "language_info": {
   "codemirror_mode": {
    "name": "ipython",
    "version": 3
   },
   "file_extension": ".py",
   "mimetype": "text/x-python",
   "name": "python",
   "nbconvert_exporter": "python",
   "pygments_lexer": "ipython3",
   "version": "3.11.8"
  }
 },
 "nbformat": 4,
 "nbformat_minor": 2
}
