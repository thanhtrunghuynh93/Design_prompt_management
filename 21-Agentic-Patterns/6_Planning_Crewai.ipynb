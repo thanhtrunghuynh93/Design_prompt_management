{
 "cells": [
  {
   "cell_type": "markdown",
   "metadata": {},
   "source": [
    "# 6 - Planning\n",
    "- Uses the Crew AI library to demonstrate the Planning agentic pattern.\n",
    "- It defines an agent with the role of an \"Article Planner and Writer\" whose goal is to plan and write a summary.\n",
    "- A task is assigned to this agent, explicitly asking it to first plan and then write a short summary on a given topic. \n",
    "- A Crew is set up with this agent and task, configured to run sequentially. \n",
    "- Finally, the crew.kickoff() method is called, initiating the process where the agent will generate a plan based on the task description before producing the final summary.\n"
   ]
  },
  {
   "cell_type": "code",
   "execution_count": 1,
   "metadata": {},
   "outputs": [],
   "source": [
    "import os\n",
    "from crewai import Agent, Task, Crew, Process\n",
    "# from langchain_google_genai import ChatGoogleGenerativeAI # Uncomment if using Google GenAI\n",
    "\n",
    "# Verify if API key is present\n",
    "if not os.getenv('OPENAI_API_KEY'):\n",
    "    raise ValueError(\"OpenAI API key not found. Please check your .env file.\")\n",
    "\n",
    "# Define the language model to use\n",
    "# If using Google GenAI:\n",
    "# llm = ChatGoogleGenerativeAI(model=\"gemini-1.5-flash-latest\")\n",
    "# If using OpenAI (default in CrewAI):\n",
    "# from langchain_openai import ChatOpenAI\n",
    "# llm = ChatOpenAI(model=\"gpt-4o-mini\") # Or other suitable model"
   ]
  },
  {
   "cell_type": "code",
   "execution_count": 2,
   "metadata": {},
   "outputs": [],
   "source": [
    "# Define an agent capable of planning and writing\n",
    "planner_writer_agent = Agent(\n",
    "    role='Article Planner and Writer',\n",
    "    goal='Plan and write a concise summary about a given topic.',\n",
    "    backstory='You are an expert planner and technical writer. You excel at breaking down writing tasks into logical steps and producing clear, informative summaries.',\n",
    "    verbose=True, # Set to True to see the agent's thought process\n",
    "    allow_delegation=False, # Simple example, no delegation needed\n",
    "    # llm=llm # Uncomment if using a specific LLM instance\n",
    ")"
   ]
  },
  {
   "cell_type": "code",
   "execution_count": 3,
   "metadata": {},
   "outputs": [],
   "source": [
    "# Define the high-level task\n",
    "topic = \"The importance of Reinforcement Learning in AI\"\n",
    "high_level_task = Task(\n",
    "    description=f\"Plan and write a short (~200 word) summary about: {topic}\",\n",
    "    expected_output=\"A concise, well-structured summary about the topic, preceded by a clear plan.\",\n",
    "    agent=planner_writer_agent,\n",
    ")"
   ]
  },
  {
   "cell_type": "code",
   "execution_count": 4,
   "metadata": {},
   "outputs": [],
   "source": [
    "# Create the crew\n",
    "crew = Crew(\n",
    "    agents=[planner_writer_agent],\n",
    "    tasks=[high_level_task],\n",
    "    process=Process.sequential, # Tasks are executed sequentially\n",
    "    # llm=llm # Uncomment if setting LLM at crew level\n",
    ")"
   ]
  },
  {
   "cell_type": "code",
   "execution_count": 5,
   "metadata": {},
   "outputs": [
    {
     "name": "stdout",
     "output_type": "stream",
     "text": [
      "## Running the planning and writing task ##\n",
      "\u001b[1m\u001b[95m# Agent:\u001b[00m \u001b[1m\u001b[92mArticle Planner and Writer\u001b[00m\n",
      "\u001b[95m## Task:\u001b[00m \u001b[92mPlan and write a short (~200 word) summary about: The importance of Reinforcement Learning in AI\u001b[00m\n",
      "\n",
      "\n",
      "\u001b[1m\u001b[95m# Agent:\u001b[00m \u001b[1m\u001b[92mArticle Planner and Writer\u001b[00m\n",
      "\u001b[95m## Final Answer:\u001b[00m \u001b[92m\n",
      "**\n",
      "\n",
      "Reinforcement Learning (RL) is a pivotal area of Artificial Intelligence that focuses on training algorithms to make decisions by interacting with their environment. Unlike deterministic models, RL employs a trial-and-error approach, allowing AI systems to learn optimal behaviors from the rewards or penalties they receive based on their actions. This unique dynamic plays a crucial role in the advancement of AI.\n",
      "\n",
      "The importance of RL is underscored by its applications across various domains such as robotics, gaming, and autonomous systems. For instance, RL has powered breakthroughs in game-playing AI like AlphaGo, which surpassed human champions, and has revolutionized robotics by enabling machines to learn complex tasks through experience. Furthermore, RL contributes significantly to innovations in fields like healthcare and finance, where decision-making processes can be improved by leveraging extensive datasets to predict outcomes.\n",
      "\n",
      "In conclusion, Reinforcement Learning is not just a component of AI; it is fundamental to its evolution. As AI continues to integrate into everyday life, the insights and capabilities gained through RL will shape a smarter, more autonomous future.\u001b[00m\n",
      "\n",
      "\n",
      "\n",
      "## Task Result ##\n",
      "**\n",
      "\n",
      "Reinforcement Learning (RL) is a pivotal area of Artificial Intelligence that focuses on training algorithms to make decisions by interacting with their environment. Unlike deterministic models, RL employs a trial-and-error approach, allowing AI systems to learn optimal behaviors from the rewards or penalties they receive based on their actions. This unique dynamic plays a crucial role in the advancement of AI.\n",
      "\n",
      "The importance of RL is underscored by its applications across various domains such as robotics, gaming, and autonomous systems. For instance, RL has powered breakthroughs in game-playing AI like AlphaGo, which surpassed human champions, and has revolutionized robotics by enabling machines to learn complex tasks through experience. Furthermore, RL contributes significantly to innovations in fields like healthcare and finance, where decision-making processes can be improved by leveraging extensive datasets to predict outcomes.\n",
      "\n",
      "In conclusion, Reinforcement Learning is not just a component of AI; it is fundamental to its evolution. As AI continues to integrate into everyday life, the insights and capabilities gained through RL will shape a smarter, more autonomous future.\n"
     ]
    }
   ],
   "source": [
    "# Execute the crew\n",
    "print(\"## Running the planning and writing task ##\")\n",
    "result = crew.kickoff()\n",
    "\n",
    "print(\"\\n## Task Result ##\")\n",
    "print(result)"
   ]
  },
  {
   "cell_type": "code",
   "execution_count": null,
   "metadata": {},
   "outputs": [],
   "source": []
  }
 ],
 "metadata": {
  "kernelspec": {
   "display_name": ".venv",
   "language": "python",
   "name": "python3"
  },
  "language_info": {
   "codemirror_mode": {
    "name": "ipython",
    "version": 3
   },
   "file_extension": ".py",
   "mimetype": "text/x-python",
   "name": "python",
   "nbconvert_exporter": "python",
   "pygments_lexer": "ipython3",
   "version": "3.11.8"
  }
 },
 "nbformat": 4,
 "nbformat_minor": 2
}
