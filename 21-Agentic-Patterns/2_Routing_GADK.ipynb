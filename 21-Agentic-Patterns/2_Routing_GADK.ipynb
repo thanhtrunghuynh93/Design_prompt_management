{
 "cells": [
  {
   "cell_type": "markdown",
   "metadata": {},
   "source": [
    "# Chapter 2 - Routing \n",
    "Using Google Agent Development Kit"
   ]
  },
  {
   "cell_type": "markdown",
   "metadata": {},
   "source": [
    "Refer - https://google.github.io/adk-docs/tutorials/"
   ]
  },
  {
   "cell_type": "code",
   "execution_count": 1,
   "metadata": {},
   "outputs": [],
   "source": [
    "# Conceptual Setup: LLM Transfer\n",
    "from google.adk.agents import LlmAgent\n",
    "booking_agent = LlmAgent(name=\"Booker\", description=\"Handles flight and hotel bookings.\")\n",
    "info_agent = LlmAgent(name=\"Info\", description=\"Provides general information and answers questions.\")\n",
    "coordinator = LlmAgent(\n",
    "   name=\"Coordinator\",\n",
    "   model=\"gemini-2.0-flash\",\n",
    "   instruction=\"You are an assistant. Delegate booking tasks to Booker and info requests to Info.\",\n",
    "   description=\"Main coordinator.\",\n",
    "   # AutoFlow is typically used implicitly here\n",
    "   sub_agents=[booking_agent, info_agent]\n",
    ")\n",
    "# If coordinator receives \"Book a flight\", its LLM should generate:\n",
    "# FunctionCall(name='transfer_to_agent', args={'agent_name': 'Booker'})\n",
    "# ADK framework then routes execution to booking_agent.\n"
   ]
  },
  {
   "cell_type": "code",
   "execution_count": null,
   "metadata": {},
   "outputs": [],
   "source": []
  }
 ],
 "metadata": {
  "kernelspec": {
   "display_name": ".venv",
   "language": "python",
   "name": "python3"
  },
  "language_info": {
   "codemirror_mode": {
    "name": "ipython",
    "version": 3
   },
   "file_extension": ".py",
   "mimetype": "text/x-python",
   "name": "python",
   "nbconvert_exporter": "python",
   "pygments_lexer": "ipython3",
   "version": "3.11.8"
  }
 },
 "nbformat": 4,
 "nbformat_minor": 2
}
