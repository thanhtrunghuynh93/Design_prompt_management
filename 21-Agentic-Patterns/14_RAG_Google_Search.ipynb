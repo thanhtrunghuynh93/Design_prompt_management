{
 "cells": [
  {
   "cell_type": "markdown",
   "id": "01bed90e",
   "metadata": {},
   "source": [
    "# 14 - Knowledge Retrieval (RAG)\n",
    "## Google Search \n",
    "- To illustrate the Knowledge Retrieval (RAG) pattern,  let's see three examples. First, is how to use Google Search to do RAG and ground LLMs to search results. Since RAG involves accessing external information, the Google Search tool is a direct example of a built-in retrieval mechanism that can augment an LLM's knowledge."
   ]
  },
  {
   "cell_type": "code",
   "execution_count": null,
   "id": "09a4766b",
   "metadata": {},
   "outputs": [],
   "source": [
    "from google.adk.tools import google_search\n",
    "from google.adk.agents import Agent\n",
    "\n",
    "search_agent = Agent(\n",
    "    name=\"research_assistant\",\n",
    "    model=\"gemini-2.0-flash-exp\",\n",
    "    instruction=\"You help users research topics. When asked, use the Google Search tool\",\n",
    "    tools=[google_search],\n",
    ")"
   ]
  },
  {
   "cell_type": "code",
   "execution_count": 1,
   "id": "310293ed",
   "metadata": {},
   "outputs": [
    {
     "name": "stderr",
     "output_type": "stream",
     "text": [
      "Exception in thread Thread-4 (_asyncio_thread_main):\n",
      "Traceback (most recent call last):\n",
      "  File \"/Users/mahtabsyed/.pyenv/versions/3.11.8/lib/python3.11/threading.py\", line 1045, in _bootstrap_inner\n",
      "    self.run()\n",
      "  File \"/Users/mahtabsyed/Documents/VSCode Cursor/21 Agentic Patterns/.venv/lib/python3.11/site-packages/ipykernel/ipkernel.py\", line 766, in run_closure\n",
      "    _threading_Thread_run(self)\n",
      "  File \"/Users/mahtabsyed/.pyenv/versions/3.11.8/lib/python3.11/threading.py\", line 982, in run\n",
      "    self._target(*self._args, **self._kwargs)\n",
      "  File \"/Users/mahtabsyed/Documents/VSCode Cursor/21 Agentic Patterns/.venv/lib/python3.11/site-packages/google/adk/runners.py\", line 137, in _asyncio_thread_main\n",
      "    asyncio.run(_invoke_run_async())\n",
      "  File \"/Users/mahtabsyed/.pyenv/versions/3.11.8/lib/python3.11/asyncio/runners.py\", line 190, in run\n",
      "    return runner.run(main)\n",
      "           ^^^^^^^^^^^^^^^^\n",
      "  File \"/Users/mahtabsyed/.pyenv/versions/3.11.8/lib/python3.11/asyncio/runners.py\", line 118, in run\n",
      "    return self._loop.run_until_complete(task)\n",
      "           ^^^^^^^^^^^^^^^^^^^^^^^^^^^^^^^^^^^\n",
      "  File \"/Users/mahtabsyed/.pyenv/versions/3.11.8/lib/python3.11/asyncio/base_events.py\", line 654, in run_until_complete\n",
      "    return future.result()\n",
      "           ^^^^^^^^^^^^^^^\n",
      "  File \"/Users/mahtabsyed/Documents/VSCode Cursor/21 Agentic Patterns/.venv/lib/python3.11/site-packages/google/adk/runners.py\", line 125, in _invoke_run_async\n",
      "    async for event in self.run_async(\n",
      "  File \"/Users/mahtabsyed/Documents/VSCode Cursor/21 Agentic Patterns/.venv/lib/python3.11/site-packages/google/adk/runners.py\", line 178, in run_async\n",
      "    raise ValueError(f'Session not found: {session_id}')\n",
      "ValueError: Session not found: 1234\n"
     ]
    }
   ],
   "source": [
    "from google.adk.agents import Agent\n",
    "from google.adk.runners import Runner\n",
    "from google.adk.sessions import InMemorySessionService\n",
    "from google.adk.tools import google_search\n",
    "from google.genai import types\n",
    "\n",
    "APP_NAME = \"google_search_agent\"\n",
    "USER_ID = \"user1234\"\n",
    "SESSION_ID = \"1234\"\n",
    "\n",
    "\n",
    "root_agent = Agent(\n",
    "    name=\"basic_search_agent\",\n",
    "    model=\"gemini-2.0-flash\",\n",
    "    description=\"Agent to answer questions using Google Search.\",\n",
    "    instruction=\"I can answer your questions by searching the internet. Just ask me anything!\",\n",
    "    # google_search is a pre-built tool which allows the agent to perform Google searches.\n",
    "    tools=[google_search],\n",
    ")\n",
    "\n",
    "# Session and Runner\n",
    "session_service = InMemorySessionService()\n",
    "session = session_service.create_session(\n",
    "    app_name=APP_NAME, user_id=USER_ID, session_id=SESSION_ID\n",
    ")\n",
    "runner = Runner(agent=root_agent, app_name=APP_NAME, session_service=session_service)\n",
    "\n",
    "\n",
    "# Agent Interaction\n",
    "def call_agent(query):\n",
    "    \"\"\"\n",
    "    Helper function to call the agent with a query.\n",
    "    \"\"\"\n",
    "    content = types.Content(role=\"user\", parts=[types.Part(text=query)])\n",
    "    events = runner.run(user_id=USER_ID, session_id=SESSION_ID, new_message=content)\n",
    "\n",
    "    for event in events:\n",
    "        if event.is_final_response():\n",
    "            final_response = event.content.parts[0].text\n",
    "            print(\"Agent Response: \", final_response)\n",
    "\n",
    "\n",
    "call_agent(\"what's the latest ai news?\")"
   ]
  }
 ],
 "metadata": {
  "kernelspec": {
   "display_name": ".venv",
   "language": "python",
   "name": "python3"
  },
  "language_info": {
   "codemirror_mode": {
    "name": "ipython",
    "version": 3
   },
   "file_extension": ".py",
   "mimetype": "text/x-python",
   "name": "python",
   "nbconvert_exporter": "python",
   "pygments_lexer": "ipython3",
   "version": "3.11.8"
  }
 },
 "nbformat": 4,
 "nbformat_minor": 5
}
