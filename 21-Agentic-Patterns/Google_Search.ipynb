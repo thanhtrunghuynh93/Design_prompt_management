{
 "cells": [
  {
   "cell_type": "code",
   "execution_count": 2,
   "id": "1066d0e7",
   "metadata": {},
   "outputs": [
    {
     "name": "stdout",
     "output_type": "stream",
     "text": [
      "{'title': 'Paris - Wikipedia', 'snippet': 'The City of Paris is the centre of the Île-de-France region, or Paris Region, with an official estimated population of 12,271,794 inhabitants in January 2023,\\xa0...', 'link': 'https://en.wikipedia.org/wiki/Paris'}\n"
     ]
    }
   ],
   "source": [
    "import os\n",
    "import requests\n",
    "from dotenv import load_dotenv\n",
    "\n",
    "# Load API keys\n",
    "load_dotenv()\n",
    "GOOGLE_CUSTOM_SEARCH_API_KEY = os.getenv(\"GOOGLE_CUSTOM_SEARCH_API_KEY\")\n",
    "GOOGLE_CSE_ID = os.getenv(\"GOOGLE_CSE_ID\")\n",
    "if not GOOGLE_CUSTOM_SEARCH_API_KEY or not GOOGLE_CSE_ID:\n",
    "    raise ValueError(\n",
    "        \"Please set GOOGLE_CUSTOM_SEARCH_API_KEY and GOOGLE_CSE_ID in your .env file.\"\n",
    "    )\n",
    "\n",
    "\n",
    "def google_search(query, num_results=1):\n",
    "    url = \"https://www.googleapis.com/customsearch/v1\"\n",
    "    params = {\n",
    "        \"key\": GOOGLE_CUSTOM_SEARCH_API_KEY,\n",
    "        \"cx\": GOOGLE_CSE_ID,\n",
    "        \"q\": query,\n",
    "        \"num\": num_results,\n",
    "    }\n",
    "\n",
    "    try:\n",
    "        response = requests.get(url, params=params)\n",
    "        response.raise_for_status()\n",
    "        results = response.json()\n",
    "\n",
    "        if \"items\" in results and results[\"items\"]:\n",
    "            top_result = results[\"items\"][0]\n",
    "            return {\n",
    "                \"title\": top_result.get(\"title\"),\n",
    "                \"snippet\": top_result.get(\"snippet\"),\n",
    "                \"link\": top_result.get(\"link\"),\n",
    "            }\n",
    "        else:\n",
    "            return {\"error\": \"No results found.\"}\n",
    "    except requests.exceptions.RequestException as e:\n",
    "        return {\"error\": str(e)}\n",
    "\n",
    "\n",
    "# Example usage\n",
    "if __name__ == \"__main__\":\n",
    "    query = \"What is the capital of France?\"\n",
    "    result = google_search(query)\n",
    "    print(result)"
   ]
  }
 ],
 "metadata": {
  "kernelspec": {
   "display_name": ".venv",
   "language": "python",
   "name": "python3"
  },
  "language_info": {
   "codemirror_mode": {
    "name": "ipython",
    "version": 3
   },
   "file_extension": ".py",
   "mimetype": "text/x-python",
   "name": "python",
   "nbconvert_exporter": "python",
   "pygments_lexer": "ipython3",
   "version": "3.11.8"
  }
 },
 "nbformat": 4,
 "nbformat_minor": 5
}
