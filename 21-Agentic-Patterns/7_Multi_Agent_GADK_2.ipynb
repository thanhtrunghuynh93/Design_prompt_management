{
 "cells": [
  {
   "cell_type": "markdown",
   "metadata": {},
   "source": [
    "# 7 - Multi-Agent\n",
    "## Iterative Workflows - Loop Agent\n",
    "- This code snippet demonstrates the use of the LoopAgent in Google ADK to create iterative workflows. \n",
    "- The LoopAgent is designed to execute its configured sub_agents sequentially within a loop. A custom BaseAgent called CheckCondition is defined to inspect the InvocationContext's session state and determine if a termination condition is met. The loop continues running the process_step (an LlmAgent) and the Checker repeatedly. \n",
    "- The iteration halts either when the CheckCondition agent yields an Event with escalate=True or when the specified max_iterations is reached. \n",
    "- The consistent passing of the same InvocationContext across iterations allows agents within the loop to share and modify state, enabling complex iterative logic.\n"
   ]
  },
  {
   "cell_type": "code",
   "execution_count": 1,
   "metadata": {},
   "outputs": [],
   "source": [
    "# Conceptual Example: Loop with Condition\n",
    "from google.adk.agents import LoopAgent, LlmAgent, BaseAgent\n",
    "from google.adk.events import Event, EventActions\n",
    "from google.adk.agents.invocation_context import InvocationContext\n",
    "from typing import AsyncGenerator\n",
    "\n",
    "class CheckCondition(BaseAgent): # Custom agent to check state\n",
    "    async def _run_async_impl(self, ctx: InvocationContext) -> AsyncGenerator[Event, None]:\n",
    "        status = ctx.session.state.get(\"status\", \"pending\")\n",
    "        is_done = (status == \"completed\")\n",
    "        yield Event(author=self.name, actions=EventActions(escalate=is_done)) # Escalate if done\n",
    "\n",
    "process_step = LlmAgent(name=\"ProcessingStep\") # Agent that might update state['status']\n",
    "\n",
    "poller = LoopAgent(\n",
    "    name=\"StatusPoller\",\n",
    "    max_iterations=10,\n",
    "    sub_agents=[process_step, CheckCondition(name=\"Checker\")]\n",
    ")\n",
    "# When poller runs, it executes process_step then Checker repeatedly\n",
    "# until Checker escalates (state['status'] == 'completed') or 10 iterations"
   ]
  },
  {
   "cell_type": "code",
   "execution_count": null,
   "metadata": {},
   "outputs": [],
   "source": []
  }
 ],
 "metadata": {
  "kernelspec": {
   "display_name": ".venv",
   "language": "python",
   "name": "python3"
  },
  "language_info": {
   "codemirror_mode": {
    "name": "ipython",
    "version": 3
   },
   "file_extension": ".py",
   "mimetype": "text/x-python",
   "name": "python",
   "nbconvert_exporter": "python",
   "pygments_lexer": "ipython3",
   "version": "3.11.8"
  }
 },
 "nbformat": 4,
 "nbformat_minor": 2
}
