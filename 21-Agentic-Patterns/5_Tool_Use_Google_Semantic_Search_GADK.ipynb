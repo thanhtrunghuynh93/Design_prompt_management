{
 "cells": [
  {
   "cell_type": "markdown",
   "metadata": {},
   "source": [
    "# 5 - Tool Use\n",
    "- Now let's see The vertex_ai_search_tool in Google ADK which empowers the agent to search specifically across your private, pre-configured data stores, such as internal documents or knowledge bases, by leveraging Google Cloud's Vertex AI Search. \n",
    "- This built-in tool requires you to specify the unique ID of the data store you want the agent to access during its setup.\n"
   ]
  },
  {
   "cell_type": "code",
   "execution_count": 1,
   "metadata": {},
   "outputs": [],
   "source": [
    "import asyncio\n",
    "\n",
    "from google.adk.agents import LlmAgent\n",
    "from google.adk.runners import Runner\n",
    "from google.adk.sessions import InMemorySessionService\n",
    "from google.genai import types\n",
    "from google.adk.tools import VertexAiSearchTool"
   ]
  },
  {
   "cell_type": "code",
   "execution_count": null,
   "metadata": {},
   "outputs": [],
   "source": [
    "# Replace with your actual Vertex AI Search Datastore ID\n",
    "# Format: projects/<PROJECT_ID>/locations/<LOCATION>/collections/default_collection/dataStores/<DATASTORE_ID>\n",
    "# e.g., \"projects/12345/locations/us-central1/collections/default_collection/dataStores/my-datastore-123\"\n",
    "YOUR_DATASTORE_ID = \"YOUR_DATASTORE_ID_HERE\"\n",
    "\n",
    "# Constants\n",
    "APP_NAME_VSEARCH = \"vertex_search_app\"\n",
    "USER_ID_VSEARCH = \"user_vsearch_1\"\n",
    "SESSION_ID_VSEARCH = \"session_vsearch_1\"\n",
    "AGENT_NAME_VSEARCH = \"doc_qa_agent\"\n",
    "GEMINI_2_FLASH = \"gemini-2.0-flash\""
   ]
  },
  {
   "cell_type": "code",
   "execution_count": null,
   "metadata": {},
   "outputs": [],
   "source": [
    "# Tool Instantiation\n",
    "# You MUST provide your datastore ID here.\n",
    "vertex_search_tool = VertexAiSearchTool(data_store_id=YOUR_DATASTORE_ID)\n",
    "\n",
    "# Agent Definition\n",
    "doc_qa_agent = LlmAgent(\n",
    "    name=AGENT_NAME_VSEARCH,\n",
    "    model=GEMINI_2_FLASH, # Requires Gemini model\n",
    "    tools=[vertex_search_tool],\n",
    "    instruction=f\"\"\"You are a helpful assistant that answers questions based on information found in the document store: {YOUR_DATASTORE_ID}.\n",
    "    Use the search tool to find relevant information before answering.\n",
    "    If the answer isn't in the documents, say that you couldn't find the information.\n",
    "    \"\"\",\n",
    "    description=\"Answers questions using a specific Vertex AI Search datastore.\",\n",
    ")"
   ]
  },
  {
   "cell_type": "code",
   "execution_count": null,
   "metadata": {},
   "outputs": [],
   "source": [
    "# Session and Runner Setup\n",
    "session_service_vsearch = InMemorySessionService()\n",
    "runner_vsearch = Runner(\n",
    "    agent=doc_qa_agent, app_name=APP_NAME_VSEARCH, session_service=session_service_vsearch\n",
    ")\n",
    "session_vsearch = session_service_vsearch.create_session(\n",
    "    app_name=APP_NAME_VSEARCH, user_id=USER_ID_VSEARCH, session_id=SESSION_ID_VSEARCH\n",
    ")"
   ]
  },
  {
   "cell_type": "code",
   "execution_count": null,
   "metadata": {},
   "outputs": [],
   "source": [
    "# Agent Interaction Function\n",
    "async def call_vsearch_agent_async(query):\n",
    "    print(\"\\n--- Running Vertex AI Search Agent ---\")\n",
    "    print(f\"Query: {query}\")\n",
    "    if \"YOUR_DATASTORE_ID_HERE\" in YOUR_DATASTORE_ID:\n",
    "        print(\"Skipping execution: Please replace YOUR_DATASTORE_ID_HERE with your actual datastore ID.\")\n",
    "        print(\"-\" * 30)\n",
    "        return\n",
    "\n",
    "    content = types.Content(role='user', parts=[types.Part(text=query)])\n",
    "    final_response_text = \"No response received.\"\n",
    "    try:\n",
    "        async for event in runner_vsearch.run_async(\n",
    "            user_id=USER_ID_VSEARCH, session_id=SESSION_ID_VSEARCH, new_message=content\n",
    "        ):\n",
    "            # Like Google Search, results are often embedded in the model's response.\n",
    "            if event.is_final_response() and event.content and event.content.parts:\n",
    "                final_response_text = event.content.parts[0].text.strip()\n",
    "                print(f\"Agent Response: {final_response_text}\")\n",
    "                # You can inspect event.grounding_metadata for source citations\n",
    "                if event.grounding_metadata:\n",
    "                    print(f\"  (Grounding metadata found with {len(event.grounding_metadata.grounding_attributions)} attributions)\")\n",
    "\n",
    "    except Exception as e:\n",
    "        print(f\"An error occurred: {e}\")\n",
    "        print(\"Ensure your datastore ID is correct and the service account has permissions.\")\n",
    "    print(\"-\" * 30)"
   ]
  },
  {
   "cell_type": "code",
   "execution_count": null,
   "metadata": {},
   "outputs": [],
   "source": [
    "# --- Run Example ---\n",
    "async def run_vsearch_example():\n",
    "    # Replace with a question relevant to YOUR datastore content\n",
    "    await call_vsearch_agent_async(\"Summarize the main points about the Q2 strategy document.\")\n",
    "    await call_vsearch_agent_async(\"What safety procedures are mentioned for lab X?\")\n",
    "\n",
    "# Execute the example\n",
    "# await run_vsearch_example()\n",
    "\n",
    "# Running locally due to potential colab asyncio issues with multiple awaits\n",
    "try:\n",
    "    asyncio.run(run_vsearch_example())\n",
    "except RuntimeError as e:\n",
    "    if \"cannot be called from a running event loop\" in str(e):\n",
    "        print(\"Skipping execution in running event loop (like Colab/Jupyter). Run locally.\")\n",
    "    else:\n",
    "        raise e"
   ]
  },
  {
   "cell_type": "code",
   "execution_count": null,
   "metadata": {},
   "outputs": [],
   "source": []
  }
 ],
 "metadata": {
  "kernelspec": {
   "display_name": ".venv",
   "language": "python",
   "name": "python3"
  },
  "language_info": {
   "codemirror_mode": {
    "name": "ipython",
    "version": 3
   },
   "file_extension": ".py",
   "mimetype": "text/x-python",
   "name": "python",
   "nbconvert_exporter": "python",
   "pygments_lexer": "ipython3",
   "version": "3.11.8"
  }
 },
 "nbformat": 4,
 "nbformat_minor": 2
}
