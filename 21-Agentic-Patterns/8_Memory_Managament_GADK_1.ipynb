{
 "cells": [
  {
   "cell_type": "markdown",
   "metadata": {},
   "source": [
    "# 8 - Memory Management\n",
    "##  GADK - The Simple Way: Using output_key (for Agent Text Replies) \n",
    "- Using Google Agent Development Kit this is the easiest method if you just want to save your agent's final text response directly into the state. When you set up your LlmAgent, just tell it the output_key you want to use. The Runner sees this and automatically creates the necessary actions to save the response to the state when it appends the event.\n",
    "- Let's look at a code example demonstrating state update via output_key "
   ]
  },
  {
   "cell_type": "code",
   "execution_count": 1,
   "metadata": {},
   "outputs": [],
   "source": [
    "# Import necessary classes from the Google Agent Developer Kit (ADK)\n",
    "# LlmAgent: Represents an agent powered by a Large Language Model.\n",
    "# InMemorySessionService: A service for managing sessions in memory (useful for testing).\n",
    "# Session: Represents a single conversation thread or interaction session.\n",
    "# Runner: Orchestrates the execution of agents within a session.\n",
    "# Content, Part: Classes used to represent the content of messages and events.\n",
    "from google.adk.agents import LlmAgent\n",
    "from google.adk.sessions import InMemorySessionService, Session\n",
    "from google.adk.runners import Runner\n",
    "from google.genai.types import Content, Part\n",
    "\n",
    "# Define an LlmAgent with an output_key.\n",
    "# The output_key specifies that the agent's final text response\n",
    "# should be automatically saved into the session's state under this key.\n",
    "greeting_agent = LlmAgent(\n",
    "    name=\"Greeter\",  # Assign a name to the agent\n",
    "    model=\"gemini-2.0-flash\",  # Specify the language model to use (conceptual model name here)\n",
    "    instruction=\"Generate a short, friendly greeting.\",  # Provide instructions to the agent\n",
    "    output_key=\"last_greeting\",  # <-- The agent's final text output will be saved to session.state['last_greeting']\n",
    ")"
   ]
  },
  {
   "cell_type": "code",
   "execution_count": 2,
   "metadata": {},
   "outputs": [
    {
     "name": "stdout",
     "output_type": "stream",
     "text": [
      "Initial state: {}\n"
     ]
    }
   ],
   "source": [
    "# --- Setup Runner and Session ---\n",
    "# Define parameters for the application, user, and session.\n",
    "app_name, user_id, session_id = \"state_app\", \"user1\", \"session1\"\n",
    "\n",
    "# Initialize the InMemorySessionService to manage sessions.\n",
    "session_service = InMemorySessionService()\n",
    "\n",
    "# Initialize the Runner, linking it to the agent and session service.\n",
    "# The Runner is responsible for processing user input, running the agent,\n",
    "# and updating the session.\n",
    "runner = Runner(\n",
    "    agent=greeting_agent,  # The agent to run\n",
    "    app_name=app_name,  # The application name\n",
    "    session_service=session_service,  # The session service to use\n",
    ")\n",
    "\n",
    "# Create a new session for the interaction using the session service.\n",
    "# You can optionally provide initial state data here.\n",
    "session = session_service.create_session(\n",
    "    app_name=app_name, user_id=user_id, session_id=session_id\n",
    ")\n",
    "\n",
    "# Print the initial state of the session (should be empty or contain initial data).\n",
    "print(f\"Initial state: {session.state}\")"
   ]
  },
  {
   "cell_type": "code",
   "execution_count": 3,
   "metadata": {},
   "outputs": [
    {
     "name": "stdout",
     "output_type": "stream",
     "text": [
      "\n",
      "--- Running the agent ---\n",
      "Agent responded.\n"
     ]
    }
   ],
   "source": [
    "# --- Run the Agent ---\n",
    "# Define the user's message content.\n",
    "user_message = Content(parts=[Part(text=\"Hello, how are you?\")])\n",
    "\n",
    "# Run the runner with the user's message.\n",
    "# The runner handles the interaction flow:\n",
    "# 1. Appends the user's message to the session events.\n",
    "# 2. Calls the agent with the session context.\n",
    "# 3. When the agent produces a final response, the Runner\n",
    "#    automatically uses the 'output_key' to create a state_delta\n",
    "#    and appends the agent's response event with this state_delta.\n",
    "# 4. The SessionService (when appending the event) applies the state_delta\n",
    "#    to the session's state.\n",
    "print(\"\\n--- Running the agent ---\")\n",
    "for event in runner.run(\n",
    "    user_id=user_id, session_id=session_id, new_message=user_message\n",
    "):\n",
    "    # Iterate through the events yielded by the runner (user input, agent responses, tool calls/results).\n",
    "    # In this simple case, we just check for the final response.\n",
    "    if event.is_final_response():\n",
    "        # This block is executed when the agent's final response event is yielded.\n",
    "        # At this point, the Runner has already processed the output_key\n",
    "        # and the SessionService has updated the session state.\n",
    "        print(\n",
    "            f\"Agent responded.\"\n",
    "        )  # Indicate that the agent's final response was received\n",
    "        # The actual response text is in event.content, but the output_key\n",
    "        # mechanism means it's also now in the session state."
   ]
  },
  {
   "cell_type": "code",
   "execution_count": 4,
   "metadata": {},
   "outputs": [
    {
     "name": "stdout",
     "output_type": "stream",
     "text": [
      "\n",
      "State after agent run: {'last_greeting': 'Hello there! How can I help you today?\\n'}\n"
     ]
    }
   ],
   "source": [
    "# --- Check Updated State ---\n",
    "# After the runner completes (or the loop finishes processing the final event),\n",
    "# retrieve the session again to see the updated state.\n",
    "# updated_session = session_service.get_session(app_name, user_id, session_id)\n",
    "# get_session(*, app_name: str, user_id: str, session_id: str,\n",
    "# config: GetSessionConfig | None = None) -> Session\n",
    "\n",
    "# updated_session = session_service.get_session(app_name, user_id, session_id)\n",
    "updated_session = session_service.get_session(\n",
    "    app_name=app_name, user_id=user_id, session_id=session_id, config=None\n",
    ")\n",
    "\n",
    "\n",
    "# Print the state after the agent run.\n",
    "# You should see the agent's final response saved under the key defined by output_key.\n",
    "print(f\"\\nState after agent run: {updated_session.state}\")\n",
    "\n",
    "# Expected output might include: {'last_greeting': 'Hello there! How can I help you today?'}\n",
    "# The exact greeting text depends on the LLM's response based on the instruction.\n",
    "\n",
    "# Clean up the session (optional, but good practice in longer-running apps)\n",
    "session_service.delete_session(\n",
    "    app_name=app_name, user_id=user_id, session_id=session_id\n",
    ")"
   ]
  },
  {
   "cell_type": "code",
   "execution_count": null,
   "metadata": {},
   "outputs": [],
   "source": []
  }
 ],
 "metadata": {
  "kernelspec": {
   "display_name": ".venv",
   "language": "python",
   "name": "python3"
  },
  "language_info": {
   "codemirror_mode": {
    "name": "ipython",
    "version": 3
   },
   "file_extension": ".py",
   "mimetype": "text/x-python",
   "name": "python",
   "nbconvert_exporter": "python",
   "pygments_lexer": "ipython3",
   "version": "3.11.8"
  }
 },
 "nbformat": 4,
 "nbformat_minor": 2
}
