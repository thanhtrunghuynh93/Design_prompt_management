{
 "cells": [
  {
   "cell_type": "markdown",
   "id": "01bed90e",
   "metadata": {},
   "source": [
    "# 14 - Knowledge Retrieval (RAG)\n",
    "## VertexAI RAG \n",
    "- Now, let's see how to use VertexAI RAG capabilities with Google ADK. This code snippet initializes VertexAiRagMemoryService from the ADK, enabling a connection to a Google Cloud Vertex AI RAG Corpus. It configures the service with the corpus resource name and optional parameters like SIMILARITY_TOP_K and VECTOR_DISTANCE_THRESHOLD. \n",
    "- This setup allows agents to perform scalable and persistent semantic knowledge retrieval from the specified RAG Corpus. Essentially, it integrates Google Cloud's RAG capabilities directly into an ADK agent for enhanced, fact-grounded responses."
   ]
  },
  {
   "cell_type": "code",
   "execution_count": null,
   "id": "09a4766b",
   "metadata": {},
   "outputs": [],
   "source": [
    "# Import the necessary VertexAiRagMemoryService class from the google.adk.memory module.\n",
    "from google.adk.memory import VertexAiRagMemoryService\n",
    "\n",
    "\n",
    "RAG_CORPUS_RESOURCE_NAME = (\n",
    "    \"projects/your-gcp-project-id/locations/us-central1/ragCorpora/your-corpus-id\"\n",
    ")\n",
    "\n",
    "# Define an optional parameter for the number of top similar results to retrieve.\n",
    "# This controls how many relevant document chunks the RAG service will return.\n",
    "SIMILARITY_TOP_K = 5\n",
    "\n",
    "# Define an optional parameter for the vector distance threshold.\n",
    "# This threshold determines the maximum semantic distance allowed for retrieved results;\n",
    "# results with a distance greater than this value might be filtered out.\n",
    "VECTOR_DISTANCE_THRESHOLD = 0.7\n",
    "\n",
    "# Initialize an instance of VertexAiRagMemoryService.\n",
    "# This sets up the connection to your Vertex AI RAG Corpus.\n",
    "# - rag_corpus: Specifies the unique identifier for your RAG Corpus.\n",
    "# - similarity_top_k: Sets the maximum number of similar results to fetch.\n",
    "# - vector_distance_threshold: Defines the similarity threshold for filtering results.\n",
    "memory_service = VertexAiRagMemoryService(\n",
    "    rag_corpus=RAG_CORPUS_RESOURCE_NAME,\n",
    "    similarity_top_k=SIMILARITY_TOP_K,\n",
    "    vector_distance_threshold=VECTOR_DISTANCE_THRESHOLD,\n",
    ")"
   ]
  }
 ],
 "metadata": {
  "kernelspec": {
   "display_name": ".venv",
   "language": "python",
   "name": "python3"
  },
  "language_info": {
   "codemirror_mode": {
    "name": "ipython",
    "version": 3
   },
   "file_extension": ".py",
   "mimetype": "text/x-python",
   "name": "python",
   "nbconvert_exporter": "python",
   "pygments_lexer": "ipython3",
   "version": "3.11.8"
  }
 },
 "nbformat": 4,
 "nbformat_minor": 5
}
