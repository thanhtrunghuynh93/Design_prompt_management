{
 "cells": [
  {
   "cell_type": "markdown",
   "metadata": {},
   "source": [
    "# 5 - Tool Use\n",
    "- Now let's see how to use pre-built tools in Google ADK.\n",
    "- First example is with Google Search pre-built tool. The google_search tool enables the agent to conduct web searches via Google Search.\n",
    "\n",
    "This Google ADK code sets up a basic agent capable of performing web searches. It defines a basic_search_agent, assigning it a Gemini model and the pre-built Google Search tool. The necessary ADK session and runner services are initialized to manage the agent's execution. A helper function call_agent is used to simulate a user query being sent to the runner. When executed, the agent processes the query, uses the Google Search tool to find information online, and provides a final response based on the search results."
   ]
  },
  {
   "cell_type": "code",
   "execution_count": 4,
   "metadata": {},
   "outputs": [],
   "source": [
    "from google.adk.agents import Agent\n",
    "from google.adk.runners import Runner\n",
    "from google.adk.sessions import InMemorySessionService\n",
    "from google.adk.tools import google_search\n",
    "from google.genai import types\n",
    "\n",
    "APP_NAME = \"google_search_agent\"\n",
    "USER_ID = \"user1234\"\n",
    "SESSION_ID = \"1234\""
   ]
  },
  {
   "cell_type": "code",
   "execution_count": 6,
   "metadata": {},
   "outputs": [
    {
     "name": "stderr",
     "output_type": "stream",
     "text": [
      "/var/folders/bq/z1j1m8m17dx3szw_ngp40tyr0000gn/T/ipykernel_21657/1461961261.py:12: RuntimeWarning: coroutine 'InMemorySessionService.create_session' was never awaited\n",
      "  session = session_service.create_session(\n",
      "RuntimeWarning: Enable tracemalloc to get the object allocation traceback\n",
      "Exception in thread Thread-7 (_asyncio_thread_main):\n",
      "Traceback (most recent call last):\n",
      "  File \"/Users/mahtabsyed/.pyenv/versions/3.11.8/lib/python3.11/threading.py\", line 1045, in _bootstrap_inner\n",
      "    self.run()\n",
      "  File \"/Users/mahtabsyed/Documents/VSCode Cursor/21 Agentic Patterns/.venv/lib/python3.11/site-packages/ipykernel/ipkernel.py\", line 766, in run_closure\n",
      "    _threading_Thread_run(self)\n",
      "  File \"/Users/mahtabsyed/.pyenv/versions/3.11.8/lib/python3.11/threading.py\", line 982, in run\n",
      "    self._target(*self._args, **self._kwargs)\n",
      "  File \"/Users/mahtabsyed/Documents/VSCode Cursor/21 Agentic Patterns/.venv/lib/python3.11/site-packages/google/adk/runners.py\", line 138, in _asyncio_thread_main\n",
      "    asyncio.run(_invoke_run_async())\n",
      "  File \"/Users/mahtabsyed/.pyenv/versions/3.11.8/lib/python3.11/asyncio/runners.py\", line 190, in run\n",
      "    return runner.run(main)\n",
      "           ^^^^^^^^^^^^^^^^\n",
      "  File \"/Users/mahtabsyed/.pyenv/versions/3.11.8/lib/python3.11/asyncio/runners.py\", line 118, in run\n",
      "    return self._loop.run_until_complete(task)\n",
      "           ^^^^^^^^^^^^^^^^^^^^^^^^^^^^^^^^^^^\n",
      "  File \"/Users/mahtabsyed/.pyenv/versions/3.11.8/lib/python3.11/asyncio/base_events.py\", line 654, in run_until_complete\n",
      "    return future.result()\n",
      "           ^^^^^^^^^^^^^^^\n",
      "  File \"/Users/mahtabsyed/Documents/VSCode Cursor/21 Agentic Patterns/.venv/lib/python3.11/site-packages/google/adk/runners.py\", line 126, in _invoke_run_async\n",
      "    async for event in self.run_async(\n",
      "  File \"/Users/mahtabsyed/Documents/VSCode Cursor/21 Agentic Patterns/.venv/lib/python3.11/site-packages/google/adk/runners.py\", line 179, in run_async\n",
      "    raise ValueError(f'Session not found: {session_id}')\n",
      "ValueError: Session not found: 1234\n"
     ]
    }
   ],
   "source": [
    "root_agent = Agent(\n",
    "    name=\"basic_search_agent\",\n",
    "    model=\"gemini-2.0-flash\",\n",
    "    description=\"Agent to answer questions using Google Search.\",\n",
    "    instruction=\"I can answer your questions by searching the internet. Just ask me anything!\",\n",
    "    # google_search is a pre-built tool which allows the agent to perform Google searches.\n",
    "    tools=[google_search],\n",
    ")\n",
    "\n",
    "# Session and Runner\n",
    "session_service = InMemorySessionService()\n",
    "session = session_service.create_session(\n",
    "    app_name=APP_NAME, user_id=USER_ID, session_id=SESSION_ID\n",
    ")\n",
    "runner = Runner(agent=root_agent, app_name=APP_NAME, session_service=session_service)\n",
    "\n",
    "\n",
    "# Agent Interaction\n",
    "def call_agent(query):\n",
    "    \"\"\"\n",
    "    Helper function to call the agent with a query.\n",
    "    \"\"\"\n",
    "    content = types.Content(role=\"user\", parts=[types.Part(text=query)])\n",
    "    events = runner.run(user_id=USER_ID, session_id=SESSION_ID, new_message=content)\n",
    "\n",
    "    for event in events:\n",
    "        if event.is_final_response():\n",
    "            final_response = event.content.parts[0].text\n",
    "            print(\"Agent Response: \", final_response)\n",
    "\n",
    "\n",
    "call_agent(\"what's the start date of the Australian Open in 2026?\")"
   ]
  },
  {
   "cell_type": "code",
   "execution_count": null,
   "metadata": {},
   "outputs": [],
   "source": []
  }
 ],
 "metadata": {
  "kernelspec": {
   "display_name": ".venv",
   "language": "python",
   "name": "python3"
  },
  "language_info": {
   "codemirror_mode": {
    "name": "ipython",
    "version": 3
   },
   "file_extension": ".py",
   "mimetype": "text/x-python",
   "name": "python",
   "nbconvert_exporter": "python",
   "pygments_lexer": "ipython3",
   "version": "3.11.8"
  }
 },
 "nbformat": 4,
 "nbformat_minor": 2
}
