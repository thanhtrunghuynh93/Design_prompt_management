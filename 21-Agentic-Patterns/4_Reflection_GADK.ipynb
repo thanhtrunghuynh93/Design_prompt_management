{
 "cells": [
  {
   "cell_type": "markdown",
   "metadata": {},
   "source": [
    "# 4 - Reflection\n",
    "Conceptual code example implemented using the Google ADK.  Specifically, the code showcases this by employing a Generator-Critic structure, where one component (the Generator) produces an initial result or plan, and another component (the Critic) provides critical feedback or a critique, guiding the Generator towards a more refined or accurate final output."
   ]
  },
  {
   "cell_type": "code",
   "execution_count": 1,
   "metadata": {},
   "outputs": [],
   "source": [
    "# Conceptual Code: Generator-Critic\n",
    "from google.adk.agents import SequentialAgent, LlmAgent\n",
    "\n",
    "generator = LlmAgent(\n",
    "   name=\"DraftWriter\",\n",
    "   instruction=\"Write a short paragraph about subject X.\",\n",
    "   output_key=\"draft_text\"\n",
    ")\n",
    "\n",
    "reviewer = LlmAgent(\n",
    "   name=\"FactChecker\",\n",
    "   instruction=\"Review the text in state key 'draft_text' for factual accuracy. Output 'valid' or 'invalid' with reasons.\",\n",
    "   output_key=\"review_status\"\n",
    ")\n",
    "\n",
    "# Optional: Further steps based on review_status\n",
    "\n",
    "review_pipeline = SequentialAgent(\n",
    "   name=\"WriteAndReview\",\n",
    "   sub_agents=[generator, reviewer]\n",
    ")\n",
    "# generator runs -> saves draft to state['draft_text']\n",
    "# reviewer runs -> reads state['draft_text'], saves status to state['review_status']\n"
   ]
  }
 ],
 "metadata": {
  "kernelspec": {
   "display_name": ".venv",
   "language": "python",
   "name": "python3"
  },
  "language_info": {
   "codemirror_mode": {
    "name": "ipython",
    "version": 3
   },
   "file_extension": ".py",
   "mimetype": "text/x-python",
   "name": "python",
   "nbconvert_exporter": "python",
   "pygments_lexer": "ipython3",
   "version": "3.11.8"
  }
 },
 "nbformat": 4,
 "nbformat_minor": 2
}
