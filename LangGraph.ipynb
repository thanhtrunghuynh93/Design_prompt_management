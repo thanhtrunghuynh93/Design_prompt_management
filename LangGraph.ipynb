{
 "cells": [
  {
   "cell_type": "code",
   "execution_count": 3,
   "id": "89fb4beb-ec5f-40bb-9ef2-e35c4e7dd304",
   "metadata": {},
   "outputs": [
    {
     "data": {
      "text/plain": [
       "True"
      ]
     },
     "execution_count": 3,
     "metadata": {},
     "output_type": "execute_result"
    }
   ],
   "source": [
    "from dotenv import load_dotenv\n",
    "load_dotenv()"
   ]
  },
  {
   "cell_type": "code",
   "execution_count": 7,
   "id": "249f345c-66ec-44aa-8981-1ca2d0f71213",
   "metadata": {},
   "outputs": [
    {
     "data": {
      "image/png": "[encoded data removed]",
      "text/plain": [
       "<IPython.core.display.Image object>"
      ]
     },
     "metadata": {},
     "output_type": "display_data"
    },
    {
     "name": "stdout",
     "output_type": "stream",
     "text": [
      "Here's a story, joke, and poem about cats!\n",
      "\n",
      "STORY:\n",
      "Once upon a time, in a small village nestled in the countryside, there lived a group of cats who were known far and wide for their mischievous antics and playful nature. These cats roamed the streets freely, causing chaos wherever they went.\n",
      "\n",
      "One particularly mischievous cat was named Whiskers. Whiskers was a sleek black cat with bright green eyes and a mischievous glint in them. He was always getting into trouble, whether it was stealing food from the local market or knocking over flower pots in the village square.\n",
      "\n",
      "Despite his troublesome ways, Whiskers was loved by all the villagers. They couldn't help but smile at his antics and playful demeanor. But one day, Whiskers took his mischief too far. He snuck into the local bakery and caused a huge mess, knocking over bags of flour and spilling milk everywhere.\n",
      "\n",
      "The baker was furious and threatened to chase Whiskers out of the village for good. But before he could do so, the other cats in the village came to Whiskers' defense. They banded together and promised to keep a closer eye on him, making sure he stayed out of trouble.\n",
      "\n",
      "From that day on, Whiskers learned to be more careful with his mischief. He still had his playful moments, but he made sure not to cause any more trouble for the villagers. And in return, the villagers showered him with love and affection, grateful for the joy and laughter he brought to their lives.\n",
      "\n",
      "And so, the cats of the village lived happily ever after, their playful antics bringing joy and laughter to all who knew them. And Whiskers, in particular, was loved and cherished by all, his mischievous ways forgiven and forgotten.\n",
      "\n",
      "JOKE:\n",
      "Why was the cat sitting on the computer?\n",
      "\n",
      "Because it wanted to keep an eye on the mouse!\n",
      "\n",
      "POEM:\n",
      "In the shadows they prowl, sleek and sly\n",
      "Eyes gleaming with mischief, tails held high\n",
      "Graceful and agile, they move with ease\n",
      "Masters of stealth, they do as they please\n",
      "\n",
      "With fur as soft as silk, they purr and preen\n",
      "Their whiskers twitch, their eyes keen\n",
      "They curl up in a sunbeam, content and warm\n",
      "Or chase a mouse with lightning speed and form\n",
      "\n",
      "They are independent, aloof and proud\n",
      "But they'll curl up in your lap, purring loud\n",
      "They'll nuzzle your hand, seeking affection\n",
      "Their loyalty is a quiet, steadfast connection\n",
      "\n",
      "Cats are mysterious, enigmatic creatures\n",
      "With their own language of meows and features\n",
      "They bring joy and comfort, laughter and love\n",
      "These feline friends, sent from above\n",
      "\n",
      "So let us cherish our cats, each one unique\n",
      "With their playful antics and gentle mystique\n",
      "For in their presence, we find peace and grace\n",
      "In the quiet beauty of their feline embrace.\n"
     ]
    }
   ],
   "source": [
    "from typing import TypedDict\n",
    "from langgraph.graph.state import StateGraph\n",
    "from langgraph.graph import START, END\n",
    "from langchain_openai import ChatOpenAI\n",
    "from langchain_core.prompts import ChatPromptTemplate\n",
    "from langchain_core.output_parsers import StrOutputParser\n",
    "\n",
    "from IPython.display import Image, display\n",
    "\n",
    "# Initialize the LLM (adjust model name if needed)\n",
    "llm = ChatOpenAI(model = \"gpt-3.5-turbo\", temperature=0)\n",
    "\n",
    "\n",
    "# Graph state\n",
    "class State(TypedDict):\n",
    "   topic: str\n",
    "   joke: str\n",
    "   story: str\n",
    "   poem: str\n",
    "   combined_output: str\n",
    "\n",
    "# Nodes\n",
    "def call_llm_1(state: State):\n",
    "   \"\"\"First LLM call to generate initial joke\"\"\"\n",
    "\n",
    "   msg = llm.invoke(f\"Write a joke about {state['topic']}\")\n",
    "   return {\"joke\": msg.content}\n",
    "\n",
    "def call_llm_2(state: State):\n",
    "   \"\"\"Second LLM call to generate story\"\"\"\n",
    "\n",
    "   msg = llm.invoke(f\"Write a story about {state['topic']}\")\n",
    "   return {\"story\": msg.content}\n",
    "\n",
    "def call_llm_3(state: State):\n",
    "   \"\"\"Third LLM call to generate poem\"\"\"\n",
    "\n",
    "   msg = llm.invoke(f\"Write a poem about {state['topic']}\")\n",
    "   return {\"poem\": msg.content}\n",
    "\n",
    "def aggregator(state: State):\n",
    "   \"\"\"Combine the joke and story into a single output\"\"\"\n",
    "\n",
    "   combined = f\"Here's a story, joke, and poem about {state['topic']}!\\n\\n\"\n",
    "   combined += f\"STORY:\\n{state['story']}\\n\\n\"\n",
    "   combined += f\"JOKE:\\n{state['joke']}\\n\\n\"\n",
    "   combined += f\"POEM:\\n{state['poem']}\"\n",
    "   return {\"combined_output\": combined}\n",
    "\n",
    "# Build workflow\n",
    "parallel_builder = StateGraph(State)\n",
    "\n",
    "# Add nodes\n",
    "parallel_builder.add_node(\"call_llm_1\", call_llm_1)\n",
    "parallel_builder.add_node(\"call_llm_2\", call_llm_2)\n",
    "parallel_builder.add_node(\"call_llm_3\", call_llm_3)\n",
    "parallel_builder.add_node(\"aggregator\", aggregator)\n",
    "\n",
    "# Add edges to connect nodes\n",
    "parallel_builder.add_edge(START, \"call_llm_1\")\n",
    "parallel_builder.add_edge(START, \"call_llm_2\")\n",
    "parallel_builder.add_edge(START, \"call_llm_3\")\n",
    "parallel_builder.add_edge(\"call_llm_1\", \"aggregator\")\n",
    "parallel_builder.add_edge(\"call_llm_2\", \"aggregator\")\n",
    "parallel_builder.add_edge(\"call_llm_3\", \"aggregator\")\n",
    "parallel_builder.add_edge(\"aggregator\", END)\n",
    "parallel_workflow = parallel_builder.compile()\n",
    "\n",
    "# Show workflow\n",
    "display(Image(parallel_workflow.get_graph().draw_mermaid_png()))\n",
    "\n",
    "# Invoke\n",
    "state = parallel_workflow.invoke({\"topic\": \"cats\"})\n",
    "print(state[\"combined_output\"])\n"
   ]
  }
 ],
 "metadata": {
  "kernelspec": {
   "display_name": "llm",
   "language": "python",
   "name": "llm"
  },
  "language_info": {
   "codemirror_mode": {
    "name": "ipython",
    "version": 3
   },
   "file_extension": ".py",
   "mimetype": "text/x-python",
   "name": "python",
   "nbconvert_exporter": "python",
   "pygments_lexer": "ipython3",
   "version": "3.10.4"
  }
 },
 "nbformat": 4,
 "nbformat_minor": 5
}
