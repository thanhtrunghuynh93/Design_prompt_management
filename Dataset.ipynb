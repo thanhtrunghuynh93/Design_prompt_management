{
 "cells": [
  {
   "cell_type": "code",
   "execution_count": 7,
   "id": "11fee11b-c32c-4c51-8de4-dec00f95adee",
   "metadata": {},
   "outputs": [
    {
     "data": {
      "text/plain": [
       "True"
      ]
     },
     "execution_count": 7,
     "metadata": {},
     "output_type": "execute_result"
    }
   ],
   "source": [
    "from dotenv import load_dotenv\n",
    "load_dotenv()"
   ]
  },
  {
   "cell_type": "code",
   "execution_count": 2,
   "id": "95ad7495-7af6-4f39-a68c-4ec00b68deb2",
   "metadata": {},
   "outputs": [],
   "source": [
    "import pandas as pd\n",
    "df = pd.read_csv(\"data.csv\")"
   ]
  },
  {
   "cell_type": "code",
   "execution_count": 5,
   "id": "774a4b74-b758-4180-a3d0-6d8e70a5b024",
   "metadata": {},
   "outputs": [
    {
     "data": {
      "text/plain": [
       "'https://cdn.shopify.com/s/files/1/0551/4310/4592/files/0_1_b8ca2194-2c3a-4a5d-a149-11a7213fb211.png?v=1720088271'"
      ]
     },
     "execution_count": 5,
     "metadata": {},
     "output_type": "execute_result"
    }
   ],
   "source": [
    "df[\"MK\"][0]"
   ]
  },
  {
   "cell_type": "code",
   "execution_count": 9,
   "id": "c9d7694c-8b55-42fa-93b6-7c775da0de19",
   "metadata": {},
   "outputs": [
    {
     "name": "stdout",
     "output_type": "stream",
     "text": [
      "Detailed description:\n",
      " The image showcases a cozy winter-themed bedding set featuring a delightful arrangement of decorative pillows and a quilt. The background is a soft, pastel blue hue that complements the entire design.\n",
      "\n",
      "In the foreground, there are several pillows adorned with charming embroidered snowmen. Each snowman character has a unique design: one wears a bright red scarf and hat with a cheerful smile, while another sports a blue scarf and hat, complete with a buttoned coat. The snowmen are depicted with rosy cheeks and expressive eyes, exuding a playful and joyful atmosphere.\n",
      "\n",
      "Around the snowmen, various embellishments add to the festive vibe. There are clusters of embroidered ornaments in contrasting colors like deep red and shimmering silver. Some of the accents include snowflakes and small floral designs, enhancing the overall winter theme. The edges of the quilt and pillows are finished with delicate stitching, showcasing a quilted texture that invites warmth and comfort.\n",
      "\n",
      "The arrangement of the pillows creates a layered look, with some pillows stacked behind others. The playful expressions and colorful attire of the snowmen create a sense of whimsy, making the bedding perfect for a charming winter bedroom decor. The overall composition radiates a cozy and cheerful ambiance, ideal for a festive holiday atmosphere.\n"
     ]
    }
   ],
   "source": [
    "from langchain_openai import ChatOpenAI\n",
    "from langchain_core.messages import HumanMessage\n",
    "from PIL import Image\n",
    "import os\n",
    "import base64\n",
    "\n",
    "# Initialize GPT (vision-capable)\n",
    "llm = ChatOpenAI(model=\"gpt-4o-mini\")\n",
    "\n",
    "def ensure_supported_format(image_path: str) -> str:\n",
    "    \"\"\"\n",
    "    Ensures the image is in JPG or PNG format.\n",
    "    Converts WEBP (or other formats) to JPG automatically.\n",
    "    Returns the path to the safe file.\n",
    "    \"\"\"\n",
    "    ext = os.path.splitext(image_path)[1].lower()\n",
    "    if ext in [\".jpg\", \".jpeg\", \".png\"]:\n",
    "        return image_path  # already safe format\n",
    "    \n",
    "    # Convert unsupported formats (e.g., .webp) to .jpg\n",
    "    img = Image.open(image_path).convert(\"RGB\")\n",
    "    safe_path = image_path.rsplit(\".\", 1)[0] + \".jpg\"\n",
    "    img.save(safe_path, \"JPEG\")\n",
    "    return safe_path\n",
    "\n",
    "def image_to_base64(image_path: str) -> str:\n",
    "    \"\"\"Reads a local image and returns a base64-encoded data URL.\"\"\"\n",
    "    with open(image_path, \"rb\") as f:\n",
    "        data = f.read()\n",
    "    b64 = base64.b64encode(data).decode(\"utf-8\")\n",
    "    ext = os.path.splitext(image_path)[1].lower().replace(\".\", \"\")\n",
    "    if ext == \"jpg\":\n",
    "        ext = \"jpeg\"  # correct MIME type\n",
    "    return f\"data:image/{ext};base64,{b64}\"\n",
    "\n",
    "def describe_image_with_langchain(llm, image_path: str, detail_level: str = \"very detailed\", local_img = True):\n",
    "\n",
    "    if local_img:    \n",
    "        # Ensure we have a supported format\n",
    "        safe_image_path = ensure_supported_format(image_path)\n",
    "        \n",
    "        # Encode local file as base64 data URL\n",
    "        data_url = image_to_base64(safe_image_path)\n",
    "    else:\n",
    "        data_url = image_path\n",
    "    \n",
    "    # Build multimodal input\n",
    "    message = HumanMessage(\n",
    "        content=[\n",
    "            {\"type\": \"text\", \"text\": f\"Describe this image in {detail_level} for Midjourney without command, mentioning all visible objects, colors, context, and actions\"},\n",
    "            {\"type\": \"image_url\", \"image_url\": {\"url\": data_url}}\n",
    "        ]\n",
    "    )\n",
    "    \n",
    "    # Call GPT\n",
    "    response = llm.invoke([message])\n",
    "    return response.content\n",
    "\n",
    "description = describe_image_with_langchain(llm, \"charmingdesign.webp\")\n",
    "print(\"Detailed description:\\n\", description)\n"
   ]
  },
  {
   "cell_type": "code",
   "execution_count": 10,
   "id": "0a64fd6a-effb-426b-8219-1e4910477048",
   "metadata": {},
   "outputs": [
    {
     "name": "stdout",
     "output_type": "stream",
     "text": [
      "Detailed description:\n",
      " The image features a vibrant and playful bedspread adorned with a patchwork of colorful cats. \n",
      "\n",
      "1. **Colors and Patterns**: The quilt showcases a variety of hues, including oranges, yellows, greens, blues, and purples, all arranged in a whimsical pattern featuring cartoonish cat faces. Each cat is uniquely designed, with distinguishing features like large, expressive eyes and quirky expressions.\n",
      "\n",
      "2. **Positioning and Texture**: The quilt is draped over a neatly made bed, its texture suggesting a soft, quilted finish. It displays intricate stitching details, particularly in the swirls and lines that add depth to the design.\n",
      "\n",
      "3. **Bed and Surroundings**: The bed is located in a cozy room with a headboard that has a light beige fabric appearance. A set of white pillows rests at the top of the bed, and a singular decorative pillow featuring a cat motif and bold eyes sits just behind the main quilt on the bed, adding a touch of complementing color.\n",
      "\n",
      "4. **Lighting and Ambiance**: Natural light filters in from a nearby window, casting gentle shadows and enhancing the colors of the quilt. The room's walls are painted in a calming blue tone, providing a beautiful backdrop that enhances the warmth of the quilt.\n",
      "\n",
      "5. **Furniture Details**: A lamp with a slightly curved shade stands nearby, its muted tone harmonizing with the overall decor. The floor is partially visible, showing a wooden texture that contrasts with the quilt’s colorful palette.\n",
      "\n",
      "Overall, the scene conveys a charming and inviting atmosphere, perfect for a cat lover’s space, combining playful artistry with cozy home decor.\n"
     ]
    }
   ],
   "source": [
    "description = describe_image_with_langchain(llm, df[\"MK\"][0], local_img = False)\n",
    "print(\"Detailed description:\\n\", description)"
   ]
  }
 ],
 "metadata": {
  "kernelspec": {
   "display_name": "Python 3 (ipykernel)",
   "language": "python",
   "name": "python3"
  },
  "language_info": {
   "codemirror_mode": {
    "name": "ipython",
    "version": 3
   },
   "file_extension": ".py",
   "mimetype": "text/x-python",
   "name": "python",
   "nbconvert_exporter": "python",
   "pygments_lexer": "ipython3",
   "version": "3.11.11"
  }
 },
 "nbformat": 4,
 "nbformat_minor": 5
}
