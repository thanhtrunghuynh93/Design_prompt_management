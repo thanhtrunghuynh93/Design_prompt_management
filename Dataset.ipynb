{
 "cells": [
  {
   "cell_type": "code",
   "execution_count": 1,
   "id": "11fee11b-c32c-4c51-8de4-dec00f95adee",
   "metadata": {},
   "outputs": [
    {
     "data": {
      "text/plain": [
       "True"
      ]
     },
     "execution_count": 1,
     "metadata": {},
     "output_type": "execute_result"
    }
   ],
   "source": [
    "from dotenv import load_dotenv\n",
    "load_dotenv()"
   ]
  },
  {
   "cell_type": "code",
   "execution_count": 2,
   "id": "95ad7495-7af6-4f39-a68c-4ec00b68deb2",
   "metadata": {},
   "outputs": [],
   "source": [
    "import pandas as pd\n",
    "df = pd.read_csv(\"data.csv\")"
   ]
  },
  {
   "cell_type": "code",
   "execution_count": 3,
   "id": "774a4b74-b758-4180-a3d0-6d8e70a5b024",
   "metadata": {},
   "outputs": [
    {
     "data": {
      "text/plain": [
       "'https://cdn.shopify.com/s/files/1/0551/4310/4592/files/0_1_b8ca2194-2c3a-4a5d-a149-11a7213fb211.png?v=1720088271'"
      ]
     },
     "execution_count": 3,
     "metadata": {},
     "output_type": "execute_result"
    }
   ],
   "source": [
    "df[\"MK\"][0]"
   ]
  },
  {
   "cell_type": "code",
   "execution_count": 39,
   "id": "c9d7694c-8b55-42fa-93b6-7c775da0de19",
   "metadata": {},
   "outputs": [
    {
     "name": "stdout",
     "output_type": "stream",
     "text": [
      "Detailed description:\n",
      " The quilt features a charming winter wonderland theme, showcasing a series of adorable snowmen adorned in festive hats and scarves. The main fabric is a soft, serene shade of light blue, creating a calming backdrop that evokes a gentle winter sky. Each snowman is meticulously embroidered, displaying vibrant colors like bright orange for their cheerful noses, deep reds and blues in their cozy attire, and delicate details like snowflakes scattered throughout.\n",
      "\n",
      "The snowmen have distinct personalities: one is waving joyfully while another holds a decorative twig, and a third beams with a friendly smile. Additionally, decorative elements such as sparkling blue ornaments and rich red flowers add layers of texture and whimsy. The quilt is bordered with intricate stitching that frames the design beautifully, enhancing the overall winter vibe. The combination of the vibrant colors, playful imagery, and soft fabric creates a cozy, inviting atmosphere, perfect for snuggling during the chilly season.\n",
      "{\n",
      "  \"niche\": \"home decor\",\n",
      "  \"color\": \"blue, white, red\",\n",
      "  \"vibe\": \"whimsical, festive, cozy\",\n",
      "  \"product_type\": \"bedding set, decorative pillows\",\n",
      "  \"design_elements\": [\n",
      "    \"snowmen illustrations\",\n",
      "    \"embroidery\",\n",
      "    \"floral accents\",\n",
      "    \"textured fabric\",\n",
      "    \"quilted pattern\"\n",
      "  ],\n",
      "  \"theme\": \"winter, holiday, snowman\"\n",
      "}\n"
     ]
    }
   ],
   "source": [
    "from langchain_openai import ChatOpenAI\n",
    "from langchain_core.messages import HumanMessage\n",
    "from PIL import Image\n",
    "import os\n",
    "import base64\n",
    "\n",
    "# Initialize GPT (vision-capable)\n",
    "llm = ChatOpenAI(model=\"gpt-4o-mini\")\n",
    "\n",
    "def ensure_supported_format(image_path: str) -> str:\n",
    "    \"\"\"\n",
    "    Ensures the image is in JPG or PNG format.\n",
    "    Converts WEBP (or other formats) to JPG automatically.\n",
    "    Returns the path to the safe file.\n",
    "    \"\"\"\n",
    "    ext = os.path.splitext(image_path)[1].lower()\n",
    "    if ext in [\".jpg\", \".jpeg\", \".png\"]:\n",
    "        return image_path  # already safe format\n",
    "    \n",
    "    # Convert unsupported formats (e.g., .webp) to .jpg\n",
    "    img = Image.open(image_path).convert(\"RGB\")\n",
    "    safe_path = image_path.rsplit(\".\", 1)[0] + \".jpg\"\n",
    "    img.save(safe_path, \"JPEG\")\n",
    "    return safe_path\n",
    "\n",
    "def image_to_base64(image_path: str) -> str:\n",
    "    \"\"\"Reads a local image and returns a base64-encoded data URL.\"\"\"\n",
    "    with open(image_path, \"rb\") as f:\n",
    "        data = f.read()\n",
    "    b64 = base64.b64encode(data).decode(\"utf-8\")\n",
    "    ext = os.path.splitext(image_path)[1].lower().replace(\".\", \"\")\n",
    "    if ext == \"jpg\":\n",
    "        ext = \"jpeg\"  # correct MIME type\n",
    "    return f\"data:image/{ext};base64,{b64}\"\n",
    "\n",
    "from langchain_core.messages import HumanMessage\n",
    "\n",
    "def describe_image_with_langchain(\n",
    "    llm,\n",
    "    image_path: str,\n",
    "    detail_level: str = \"very detailed\",\n",
    "    item: str = \"quilt\",\n",
    "    local_img: bool = True\n",
    "):\n",
    "    \"\"\"\n",
    "    Describe an image using an LLM via LangChain multimodal input.\n",
    "    \"\"\"\n",
    "\n",
    "    if local_img:\n",
    "        # Ensure we have a supported format\n",
    "        safe_image_path = ensure_supported_format(image_path)\n",
    "\n",
    "        # Encode local file as base64 data URL\n",
    "        data_url = image_to_base64(safe_image_path)\n",
    "    else:\n",
    "        data_url = image_path\n",
    "\n",
    "    # Build multimodal input\n",
    "    message = HumanMessage(\n",
    "        content=[\n",
    "            {\n",
    "                \"type\": \"text\",\n",
    "                \"text\": (\n",
    "                    f\"Describe the {item} in {detail_level} for Midjourney without command, \"\n",
    "                    f\"mentioning all visible niche, objects, colors, context, vibe and actions. \"\n",
    "                    f\"Return the design only, no special character such as *, -. \"\n",
    "                    f\"Example: a stunning quilt bedding set features a vibrant tree of Life design \"\n",
    "                    f\"that blends intricate stitching and vibrant colors to evoke a sense of nature's \"\n",
    "                    f\"beauty and harmony.\"\n",
    "                ),\n",
    "            },\n",
    "            {\"type\": \"image_url\", \"image_url\": {\"url\": data_url}},\n",
    "        ]\n",
    "    )\n",
    "\n",
    "    # Call LLM\n",
    "    response = llm.invoke([message])\n",
    "    return response.content\n",
    "\n",
    "def tagging_image_with_langchain(llm, image_path: str, local_img = True):\n",
    "\n",
    "    if local_img:    \n",
    "        # Ensure we have a supported format\n",
    "        safe_image_path = ensure_supported_format(image_path)\n",
    "        \n",
    "        # Encode local file as base64 data URL\n",
    "        data_url = image_to_base64(safe_image_path)\n",
    "    else:\n",
    "        data_url = image_path\n",
    "    \n",
    "    # Build multimodal input\n",
    "    message = HumanMessage(\n",
    "        content=[\n",
    "            {\"type\": \"text\", \"text\": f\"Describe this design in detailed tags, including: niche, color, vibe, product type, design elements, theme. Return the result in raw JSON format, without code fences\"},\n",
    "            {\"type\": \"image_url\", \"image_url\": {\"url\": data_url}}\n",
    "        ]\n",
    "    )\n",
    "    \n",
    "    # Call GPT\n",
    "    response = llm.invoke([message])\n",
    "    return response.content\n",
    "\n",
    "description = describe_image_with_langchain(llm, \"charmingdesign.webp\")\n",
    "tags = tagging_image_with_langchain(llm, \"charmingdesign.webp\")\n",
    "print(\"Detailed description:\\n\", description)\n",
    "print(tags)\n"
   ]
  },
  {
   "cell_type": "code",
   "execution_count": 33,
   "id": "111d5587-26aa-473d-86df-9301db803f0e",
   "metadata": {},
   "outputs": [
    {
     "data": {
      "text/plain": [
       "'```json\\n{\\n    \"niche\": [\"holiday\", \"winter\", \"seasonal\", \"home decor\"],\\n    \"color\": [\"blue\", \"red\", \"white\"],\\n    \"vibe\": [\"cozy\", \"festive\", \"cheerful\"],\\n    \"productType\": [\"bedding\", \"quilt\", \"pillow\"]\\n}\\n```'"
      ]
     },
     "execution_count": 33,
     "metadata": {},
     "output_type": "execute_result"
    }
   ],
   "source": [
    "tags"
   ]
  },
  {
   "cell_type": "code",
   "execution_count": 10,
   "id": "0a64fd6a-effb-426b-8219-1e4910477048",
   "metadata": {},
   "outputs": [
    {
     "name": "stdout",
     "output_type": "stream",
     "text": [
      "The quilt design features a collection of stylized cats in a variety of colors and patterns. Each cat is uniquely depicted with bold, expressive eyes and simple, elegant whiskers. The cats are arranged in a playful, overlapping manner, creating a dynamic, lively composition.\n",
      "\n",
      "The color palette includes vibrant hues such as orange, green, black, white, purple, yellow, and blue. Each cat is a different color with some featuring combinations of colors and patterns, such as stripes and spots. The background consists of muted, earthy tones in geometric shapes that complement the vividness of the cats.\n",
      "\n",
      "The fabric texture shows intricate quilting patterns that enhance the visual appeal, such as spirals and waves, lending depth and dimension to the overall design. This quilt exudes a whimsical, cheerful atmosphere, perfect for adding a touch of fun and creativity to any room. Put the final design on the quilt.\n"
     ]
    }
   ],
   "source": [
    "description = describe_image_with_langchain(llm, df[\"MK\"][0], local_img = False)\n",
    "print(description + extra_requirement)"
   ]
  }
 ],
 "metadata": {
  "kernelspec": {
   "display_name": "Python 3 (ipykernel)",
   "language": "python",
   "name": "python3"
  },
  "language_info": {
   "codemirror_mode": {
    "name": "ipython",
    "version": 3
   },
   "file_extension": ".py",
   "mimetype": "text/x-python",
   "name": "python",
   "nbconvert_exporter": "python",
   "pygments_lexer": "ipython3",
   "version": "3.10.4"
  }
 },
 "nbformat": 4,
 "nbformat_minor": 5
}
