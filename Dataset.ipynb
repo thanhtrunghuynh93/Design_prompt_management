{
 "cells": [
  {
   "cell_type": "code",
   "execution_count": 1,
   "id": "11fee11b-c32c-4c51-8de4-dec00f95adee",
   "metadata": {},
   "outputs": [
    {
     "data": {
      "text/plain": [
       "True"
      ]
     },
     "execution_count": 1,
     "metadata": {},
     "output_type": "execute_result"
    }
   ],
   "source": [
    "from dotenv import load_dotenv\n",
    "load_dotenv()"
   ]
  },
  {
   "cell_type": "code",
   "execution_count": 4,
   "id": "c9d7694c-8b55-42fa-93b6-7c775da0de19",
   "metadata": {},
   "outputs": [
    {
     "name": "stdout",
     "output_type": "stream",
     "text": [
      "Detailed description:\n",
      " The quilt features a playful winter scene dominated by cheerful snowmen adorned in colorful accessories. Each snowman displays a distinct personality, wearing vibrant hats and scarves in shades of red, blue, and white, while their faces are embellished with joyful expressions and stitched features. The backdrop is a soft, cool blue that evokes a serene winter sky, while meticulously quilted snowflakes dance around the snowmen, enhancing the festive atmosphere. \n",
      "\n",
      "Delicate, embroidered details include clusters of berries and pine leaves, adding texture and depth to the design. The patchwork elements are bordered by intricate stitching, which not only outlines the snowmen but also creates a charming frame for the whole scene. The quilt exudes a cozy, inviting vibe perfect for the holiday season, evoking warmth and nostalgia as it captures the essence of joyous winter gatherings and playful outdoor fun. Each pillow compliments the quilt, showcasing similar designs of snowmen and snowflakes, creating a cohesive and delightful bedding ensemble that invites snuggles during chilly nights.\n",
      "{\n",
      "  \"niche\": \"Home Decor\",\n",
      "  \"color\": \"Blue, Red, White\",\n",
      "  \"vibe\": \"Festive, Cheerful, Cozy\",\n",
      "  \"product_type\": \"Bedding Set, Pillow Covers\",\n",
      "  \"design_elements\": [\n",
      "    \"Snowman Embroidery\",\n",
      "    \"Plaid Patterns\",\n",
      "    \"Floral Accents\",\n",
      "    \"Snowflake Motifs\",\n",
      "    \"Textured Fabric\"\n",
      "  ],\n",
      "  \"theme\": \"Winter, Holiday\"\n",
      "}\n"
     ]
    }
   ],
   "source": [
    "from langchain_openai import ChatOpenAI\n",
    "from langchain_core.messages import HumanMessage\n",
    "from PIL import Image\n",
    "import os\n",
    "import base64\n",
    "from tools.metadata_extractor import describe_image_with_langchain, tagging_image_with_langchain\n",
    "\n",
    "# Initialize GPT (vision-capable)\n",
    "llm = ChatOpenAI(model=\"gpt-4o-mini\")\n",
    "\n",
    "description = describe_image_with_langchain(llm, \"charmingdesign.webp\")\n",
    "tags = tagging_image_with_langchain(llm, \"charmingdesign.webp\")\n",
    "print(\"Detailed description:\\n\", description)\n",
    "print(tags)\n"
   ]
  },
  {
   "cell_type": "code",
   "execution_count": 8,
   "id": "0a64fd6a-effb-426b-8219-1e4910477048",
   "metadata": {},
   "outputs": [
    {
     "name": "stdout",
     "output_type": "stream",
     "text": [
      "0\n",
      "1\n",
      "2\n",
      "3\n",
      "4\n"
     ]
    }
   ],
   "source": [
    "import pandas as pd\n",
    "from dotenv import load_dotenv\n",
    "from langchain_openai import ChatOpenAI\n",
    "\n",
    "load_dotenv()\n",
    "df = pd.read_csv(\"data.csv\")\n",
    "llm = ChatOpenAI(model=\"gpt-4o-mini\")\n",
    "\n",
    "# Initialize columns\n",
    "df[\"description\"] = \"\"\n",
    "df[\"tags\"] = \"\"\n",
    "\n",
    "max_num_try = 3\n",
    "num_items = 5\n",
    "\n",
    "for i in range(num_items):\n",
    "    print(i)\n",
    "    for attempt in range(max_num_try):\n",
    "        try:\n",
    "            description = describe_image_with_langchain(\n",
    "                llm, df[\"MK\"][i], local_img=False\n",
    "            )\n",
    "            tags = tagging_image_with_langchain(\n",
    "                llm, df[\"MK\"][i], local_img=False\n",
    "            )\n",
    "\n",
    "            # Save results to dataframe\n",
    "            df.at[i, \"description\"] = description\n",
    "            df.at[i, \"tags\"] = tags\n",
    "            break \n",
    "        except Exception as e:\n",
    "            print(f\"Attempt {attempt + 1} failed for item {i}: {e}\")\n",
    "            if attempt == max_num_try - 1:\n",
    "                print(f\"Skipping item {i} after {max_num_try} tries.\")"
   ]
  },
  {
   "cell_type": "code",
   "execution_count": 9,
   "id": "1d045a98-01f7-4899-bd06-cfafe6e0a284",
   "metadata": {},
   "outputs": [
    {
     "data": {
      "text/html": [
       "<div>\n",
       "<style scoped>\n",
       "    .dataframe tbody tr th:only-of-type {\n",
       "        vertical-align: middle;\n",
       "    }\n",
       "\n",
       "    .dataframe tbody tr th {\n",
       "        vertical-align: top;\n",
       "    }\n",
       "\n",
       "    .dataframe thead th {\n",
       "        text-align: right;\n",
       "    }\n",
       "</style>\n",
       "<table border=\"1\" class=\"dataframe\">\n",
       "  <thead>\n",
       "    <tr style=\"text-align: right;\">\n",
       "      <th></th>\n",
       "      <th>Product title</th>\n",
       "      <th>Product Type</th>\n",
       "      <th>Total</th>\n",
       "      <th>MK</th>\n",
       "      <th>description</th>\n",
       "      <th>tags</th>\n",
       "    </tr>\n",
       "  </thead>\n",
       "  <tbody>\n",
       "    <tr>\n",
       "      <th>0</th>\n",
       "      <td>Cat TAI040724007 Quilt Blanket</td>\n",
       "      <td>Quilt Blanket</td>\n",
       "      <td>6210</td>\n",
       "      <td>https://cdn.shopify.com/s/files/1/0551/4310/45...</td>\n",
       "      <td>The quilt is an eye-catching tapestry filled w...</td>\n",
       "      <td>{\\n  \"niche\": \"Home Decor\",\\n  \"color\": [\"Oran...</td>\n",
       "    </tr>\n",
       "    <tr>\n",
       "      <th>1</th>\n",
       "      <td>Sunflower TAI04122328 Quilted Table Runner</td>\n",
       "      <td>Quilted Table Runner</td>\n",
       "      <td>2923</td>\n",
       "      <td>https://cdn.shopify.com/s/files/1/0551/4310/45...</td>\n",
       "      <td>The quilt features a captivating tabletop runn...</td>\n",
       "      <td>{\\n  \"niche\": \"home decor\",\\n  \"color\": [\"yell...</td>\n",
       "    </tr>\n",
       "    <tr>\n",
       "      <th>2</th>\n",
       "      <td>Sunflower TAI24112326 Quilted Table Runner</td>\n",
       "      <td>Quilted Table Runner</td>\n",
       "      <td>1681</td>\n",
       "      <td>https://cdn.shopify.com/s/files/1/0551/4310/45...</td>\n",
       "      <td>The quilt features a striking table runner des...</td>\n",
       "      <td>{\\n  \"niche\": \"Home Decor\",\\n  \"color\": [\\n   ...</td>\n",
       "    </tr>\n",
       "    <tr>\n",
       "      <th>3</th>\n",
       "      <td>Woodland Whimsy CLA1410621Q Quilt Blanket</td>\n",
       "      <td>Quilt Blanket</td>\n",
       "      <td>1552</td>\n",
       "      <td>https://cdn.shopify.com/s/files/1/0551/4310/45...</td>\n",
       "      <td>The quilt showcases a charming patchwork desig...</td>\n",
       "      <td>{\\n  \"niche\": \"Textile Art\",\\n  \"color\": [\\n  ...</td>\n",
       "    </tr>\n",
       "    <tr>\n",
       "      <th>4</th>\n",
       "      <td>Sheep BL10112316 Quilt Blanket</td>\n",
       "      <td>Quilt Blanket</td>\n",
       "      <td>1370</td>\n",
       "      <td>https://cdn.shopify.com/s/files/1/0551/4310/45...</td>\n",
       "      <td>This quilt features a whimsical design showcas...</td>\n",
       "      <td>{\\n  \"niche\": \"Home Decor\",\\n  \"color\": \"White...</td>\n",
       "    </tr>\n",
       "  </tbody>\n",
       "</table>\n",
       "</div>"
      ],
      "text/plain": [
       "                                Product title          Product Type  Total  \\\n",
       "0              Cat TAI040724007 Quilt Blanket         Quilt Blanket   6210   \n",
       "1  Sunflower TAI04122328 Quilted Table Runner  Quilted Table Runner   2923   \n",
       "2  Sunflower TAI24112326 Quilted Table Runner  Quilted Table Runner   1681   \n",
       "3   Woodland Whimsy CLA1410621Q Quilt Blanket         Quilt Blanket   1552   \n",
       "4              Sheep BL10112316 Quilt Blanket         Quilt Blanket   1370   \n",
       "\n",
       "                                                  MK  \\\n",
       "0  https://cdn.shopify.com/s/files/1/0551/4310/45...   \n",
       "1  https://cdn.shopify.com/s/files/1/0551/4310/45...   \n",
       "2  https://cdn.shopify.com/s/files/1/0551/4310/45...   \n",
       "3  https://cdn.shopify.com/s/files/1/0551/4310/45...   \n",
       "4  https://cdn.shopify.com/s/files/1/0551/4310/45...   \n",
       "\n",
       "                                         description  \\\n",
       "0  The quilt is an eye-catching tapestry filled w...   \n",
       "1  The quilt features a captivating tabletop runn...   \n",
       "2  The quilt features a striking table runner des...   \n",
       "3  The quilt showcases a charming patchwork desig...   \n",
       "4  This quilt features a whimsical design showcas...   \n",
       "\n",
       "                                                tags  \n",
       "0  {\\n  \"niche\": \"Home Decor\",\\n  \"color\": [\"Oran...  \n",
       "1  {\\n  \"niche\": \"home decor\",\\n  \"color\": [\"yell...  \n",
       "2  {\\n  \"niche\": \"Home Decor\",\\n  \"color\": [\\n   ...  \n",
       "3  {\\n  \"niche\": \"Textile Art\",\\n  \"color\": [\\n  ...  \n",
       "4  {\\n  \"niche\": \"Home Decor\",\\n  \"color\": \"White...  "
      ]
     },
     "execution_count": 9,
     "metadata": {},
     "output_type": "execute_result"
    }
   ],
   "source": [
    "df.head()"
   ]
  }
 ],
 "metadata": {
  "kernelspec": {
   "display_name": "Python 3 (ipykernel)",
   "language": "python",
   "name": "python3"
  },
  "language_info": {
   "codemirror_mode": {
    "name": "ipython",
    "version": 3
   },
   "file_extension": ".py",
   "mimetype": "text/x-python",
   "name": "python",
   "nbconvert_exporter": "python",
   "pygments_lexer": "ipython3",
   "version": "3.10.4"
  }
 },
 "nbformat": 4,
 "nbformat_minor": 5
}
